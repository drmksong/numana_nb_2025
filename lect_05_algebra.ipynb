{
 "cells": [
  {
   "cell_type": "markdown",
   "metadata": {},
   "source": [
    "\n",
    "<center>\n",
    "<hr>\n",
    "<hr>\n",
    "<font style=\"font-size:5.4em ; color:black'\" > \n",
    "<span style=\"background : yellow\">\n",
    "#5 Algebra, Matrix Solvers\n",
    "</span>\n",
    "</font>\n",
    "<hr>\n",
    "<hr>\n",
    "</center>\n"
   ]
  },
  {
   "cell_type": "code",
   "execution_count": 125,
   "metadata": {},
   "outputs": [],
   "source": [
    "%matplotlib inline\n",
    "from IPython.display import display,Latex,Math,HTML\n",
    "import sympy as sym\n",
    "import scipy as sp\n",
    "import math\n",
    "import matplotlib.pyplot as plt\n",
    "import matplotlib.animation as animation\n",
    "import numpy as np"
   ]
  },
  {
   "cell_type": "code",
   "execution_count": 126,
   "metadata": {},
   "outputs": [
    {
     "name": "stdout",
     "output_type": "stream",
     "text": [
      "[[4 2]\n",
      " [2 4]]\n",
      "[6 6]\n",
      "P:\n",
      " [[1. 0.]\n",
      " [0. 1.]]\n",
      "L:\n",
      " [[1.  0. ]\n",
      " [0.5 1. ]]\n",
      "U:\n",
      " [[4. 2.]\n",
      " [0. 3.]]\n"
     ]
    }
   ],
   "source": [
    "x = np.array([1,1])\n",
    "mat = np.array([[4,2],[2,4]])\n",
    "vec_b = np.dot(mat,x)\n",
    "print(mat)\n",
    "print(vec_b)\n",
    "P, L, U = sp.linalg.lu(mat)\n",
    "print(\"P:\\n\", P)\n",
    "print(\"L:\\n\", L)\n",
    "print(\"U:\\n\", U)"
   ]
  },
  {
   "cell_type": "code",
   "execution_count": 127,
   "metadata": {},
   "outputs": [
    {
     "data": {
      "text/latex": [
       " \\begin{equation*}\n",
       "            \\begin{bmatrix*} \n",
       "                  \\Huge {4} & \\Huge {2} \\\\[1em]\n",
       "                  \\Huge {2} & \\Huge {4} \n",
       "            \\end{bmatrix*} \n",
       "            \\begin{bmatrix*}\n",
       "                  \\Huge a_1\\\\[1.8em]\n",
       "                  \\Huge a_2\n",
       "            \\end{bmatrix*}=\n",
       "            \\begin{bmatrix*}\n",
       "                  \\Huge {6}\\\\[1em]\n",
       "                  \\Huge {6}\n",
       "            \\end{bmatrix*}\n",
       "      \\end{equation*}\n"
      ],
      "text/plain": [
       "<IPython.core.display.Latex object>"
      ]
     },
     "execution_count": 127,
     "metadata": {},
     "output_type": "execute_result"
    }
   ],
   "source": [
    "Latex(f\"\"\" \\\\begin{{equation*}}\n",
    "            \\\\begin{{bmatrix*}} \n",
    "                  \\\\Huge {{{mat[0,0]}}} & \\\\Huge {{{mat[0,1]}}} \\\\\\\\[1em]\n",
    "                  \\\\Huge {{{mat[1,0]}}} & \\\\Huge {{{mat[1,1]}}} \n",
    "            \\\\end{{bmatrix*}} \n",
    "            \\\\begin{{bmatrix*}}\n",
    "                  \\\\Huge a_1\\\\\\\\[1.8em]\n",
    "                  \\\\Huge a_2\n",
    "            \\\\end{{bmatrix*}}=\n",
    "            \\\\begin{{bmatrix*}}\n",
    "                  \\\\Huge {{{vec_b[0]}}}\\\\\\\\[1em]\n",
    "                  \\\\Huge {{{vec_b[1]}}}\n",
    "            \\\\end{{bmatrix*}}\n",
    "      \\\\end{{equation*}}\n",
    "\"\"\")"
   ]
  },
  {
   "cell_type": "code",
   "execution_count": 128,
   "metadata": {},
   "outputs": [
    {
     "data": {
      "text/latex": [
       " \\begin{equation*}\n",
       "            \\begin{bmatrix*}\n",
       "                  \\Huge a_1\\\\[1.8em]\n",
       "                  \\Huge a_2\n",
       "            \\end{bmatrix*}=\n",
       "            \\begin{bmatrix*}\n",
       "                  \\Huge {1}\\\\[1em]\n",
       "                  \\Huge {1}\n",
       "            \\end{bmatrix*}\n",
       "      \\end{equation*}\n"
      ],
      "text/plain": [
       "<IPython.core.display.Latex object>"
      ]
     },
     "execution_count": 128,
     "metadata": {},
     "output_type": "execute_result"
    }
   ],
   "source": [
    "Latex(f\"\"\" \\\\begin{{equation*}}\n",
    "            \\\\begin{{bmatrix*}}\n",
    "                  \\\\Huge a_1\\\\\\\\[1.8em]\n",
    "                  \\\\Huge a_2\n",
    "            \\\\end{{bmatrix*}}=\n",
    "            \\\\begin{{bmatrix*}}\n",
    "                  \\\\Huge {{{x[0]}}}\\\\\\\\[1em]\n",
    "                  \\\\Huge {{{x[1]}}}\n",
    "            \\\\end{{bmatrix*}}\n",
    "      \\\\end{{equation*}}\n",
    "\"\"\")"
   ]
  },
  {
   "cell_type": "code",
   "execution_count": 129,
   "metadata": {},
   "outputs": [
    {
     "name": "stdout",
     "output_type": "stream",
     "text": [
      "[[4 2 1]\n",
      " [2 4 1]\n",
      " [2 1 4]]\n",
      "[7 7 7]\n",
      "P:\n",
      " [[1. 0. 0.]\n",
      " [0. 1. 0.]\n",
      " [0. 0. 1.]]\n",
      "L:\n",
      " [[1.  0.  0. ]\n",
      " [0.5 1.  0. ]\n",
      " [0.5 0.  1. ]]\n",
      "U:\n",
      " [[4.  2.  1. ]\n",
      " [0.  3.  0.5]\n",
      " [0.  0.  3.5]]\n"
     ]
    }
   ],
   "source": [
    "x = np.array([1,1,1])\n",
    "mat = np.array([[4,2,1],[2,4,1],[2,1,4]])\n",
    "vec_b = np.dot(mat,x)\n",
    "print(mat)\n",
    "print(vec_b)\n",
    "P, L, U = sp.linalg.lu(mat)\n",
    "print(\"P:\\n\", P)\n",
    "print(\"L:\\n\", L)\n",
    "print(\"U:\\n\", U)"
   ]
  },
  {
   "cell_type": "code",
   "execution_count": 130,
   "metadata": {},
   "outputs": [
    {
     "data": {
      "text/latex": [
       " \\begin{equation*}\n",
       "            \\begin{bmatrix*} \n",
       "                  \\Huge {4} & \\Huge {2} & \\Huge {1}\\\\[1em]\n",
       "                  \\Huge {2} & \\Huge {4} & \\Huge {1}\\\\[1em]\n",
       "                  \\Huge {2} & \\Huge {1} & \\Huge {4}      \n",
       "            \\end{bmatrix*} \n",
       "            \\begin{bmatrix*}\n",
       "                  \\Huge a_1\\\\[1.8em]\n",
       "                  \\Huge a_2\\\\[1.8em]\n",
       "                  \\Huge a_3\n",
       "            \\end{bmatrix*}=\n",
       "            \\begin{bmatrix*}\n",
       "                  \\Huge {7}\\\\[1em]\n",
       "                  \\Huge {7}\\\\[1em]\n",
       "                  \\Huge {7}\n",
       "            \\end{bmatrix*}\n",
       "      \\end{equation*}\n"
      ],
      "text/plain": [
       "<IPython.core.display.Latex object>"
      ]
     },
     "execution_count": 130,
     "metadata": {},
     "output_type": "execute_result"
    }
   ],
   "source": [
    "Latex(f\"\"\" \\\\begin{{equation*}}\n",
    "            \\\\begin{{bmatrix*}} \n",
    "                  \\\\Huge {{{mat[0,0]}}} & \\\\Huge {{{mat[0,1]}}} & \\\\Huge {{{mat[0,2]}}}\\\\\\\\[1em]\n",
    "                  \\\\Huge {{{mat[1,0]}}} & \\\\Huge {{{mat[1,1]}}} & \\\\Huge {{{mat[1,2]}}}\\\\\\\\[1em]\n",
    "                  \\\\Huge {{{mat[2,0]}}} & \\\\Huge {{{mat[2,1]}}} & \\\\Huge {{{mat[2,2]}}}      \n",
    "            \\\\end{{bmatrix*}} \n",
    "            \\\\begin{{bmatrix*}}\n",
    "                  \\\\Huge a_1\\\\\\\\[1.8em]\n",
    "                  \\\\Huge a_2\\\\\\\\[1.8em]\n",
    "                  \\\\Huge a_3\n",
    "            \\\\end{{bmatrix*}}=\n",
    "            \\\\begin{{bmatrix*}}\n",
    "                  \\\\Huge {{{vec_b[0]}}}\\\\\\\\[1em]\n",
    "                  \\\\Huge {{{vec_b[1]}}}\\\\\\\\[1em]\n",
    "                  \\\\Huge {{{vec_b[2]}}}\n",
    "            \\\\end{{bmatrix*}}\n",
    "      \\\\end{{equation*}}\n",
    "\"\"\")"
   ]
  },
  {
   "cell_type": "code",
   "execution_count": 131,
   "metadata": {},
   "outputs": [
    {
     "data": {
      "text/latex": [
       " \\begin{equation*}\n",
       "            \\begin{bmatrix*}\n",
       "                  \\Huge a_1\\\\[1.8em]\n",
       "                  \\Huge a_2\\\\[1.8em]\n",
       "                  \\Huge a_3\n",
       "            \\end{bmatrix*}=\n",
       "            \\begin{bmatrix*}\n",
       "                  \\Huge {1}\\\\[1em]\n",
       "                  \\Huge {1}\\\\[1em]                  \n",
       "                  \\Huge {1}\n",
       "            \\end{bmatrix*}\n",
       "      \\end{equation*}\n"
      ],
      "text/plain": [
       "<IPython.core.display.Latex object>"
      ]
     },
     "execution_count": 131,
     "metadata": {},
     "output_type": "execute_result"
    }
   ],
   "source": [
    "Latex(f\"\"\" \\\\begin{{equation*}}\n",
    "            \\\\begin{{bmatrix*}}\n",
    "                  \\\\Huge a_1\\\\\\\\[1.8em]\n",
    "                  \\\\Huge a_2\\\\\\\\[1.8em]\n",
    "                  \\\\Huge a_3\n",
    "            \\\\end{{bmatrix*}}=\n",
    "            \\\\begin{{bmatrix*}}\n",
    "                  \\\\Huge {{{x[0]}}}\\\\\\\\[1em]\n",
    "                  \\\\Huge {{{x[1]}}}\\\\\\\\[1em]                  \n",
    "                  \\\\Huge {{{x[2]}}}\n",
    "            \\\\end{{bmatrix*}}\n",
    "      \\\\end{{equation*}}\n",
    "\"\"\")"
   ]
  },
  {
   "cell_type": "markdown",
   "metadata": {},
   "source": [
    "<center>\n",
    "<hr>\n",
    "<font size=\"20\" color='Blue' >Gauss Elimination</font>\n",
    "<hr>\n",
    "</center>"
   ]
  },
  {
   "cell_type": "code",
   "execution_count": 132,
   "metadata": {},
   "outputs": [
    {
     "name": "stdout",
     "output_type": "stream",
     "text": [
      "[[ 25   5   1]\n",
      " [ 64   8   1]\n",
      " [144  12   1]]\n",
      "[106.8 177.2 279.2]\n"
     ]
    }
   ],
   "source": [
    "mat = np.array([[25,5,1],[64,8,1],[144,12,1]])\n",
    "vec_b = np.array([106.8,177.2,279.2])\n",
    "print(mat)\n",
    "print(vec_b)"
   ]
  },
  {
   "cell_type": "code",
   "execution_count": 133,
   "metadata": {},
   "outputs": [
    {
     "data": {
      "text/latex": [
       " \\begin{equation*}\n",
       "            \\begin{bmatrix*} \n",
       "                  \\Huge {25} & \\Huge {5} & \\Huge {1}\\\\[1em]\n",
       "                  \\Huge {64} & \\Huge {8} & \\Huge {1}\\\\[1em]\n",
       "                  \\Huge {144} & \\Huge {12} & \\Huge {1}      \n",
       "            \\end{bmatrix*} \n",
       "            \\begin{bmatrix*}\n",
       "                  \\Huge a_1\\\\[1.8em]\n",
       "                  \\Huge a_2\\\\[1.8em]\n",
       "                  \\Huge a_3\n",
       "            \\end{bmatrix*}=\n",
       "            \\begin{bmatrix*}\n",
       "                  \\Huge {106.8}\\\\[1em]\n",
       "                  \\Huge {177.2}\\\\[1em]\n",
       "                  \\Huge {279.2}\n",
       "            \\end{bmatrix*}\n",
       "      \\end{equation*}\n"
      ],
      "text/plain": [
       "<IPython.core.display.Latex object>"
      ]
     },
     "execution_count": 133,
     "metadata": {},
     "output_type": "execute_result"
    }
   ],
   "source": [
    "Latex(f\"\"\" \\\\begin{{equation*}}\n",
    "            \\\\begin{{bmatrix*}} \n",
    "                  \\\\Huge {{{mat[0,0]}}} & \\\\Huge {{{mat[0,1]}}} & \\\\Huge {{{mat[0,2]}}}\\\\\\\\[1em]\n",
    "                  \\\\Huge {{{mat[1,0]}}} & \\\\Huge {{{mat[1,1]}}} & \\\\Huge {{{mat[1,2]}}}\\\\\\\\[1em]\n",
    "                  \\\\Huge {{{mat[2,0]}}} & \\\\Huge {{{mat[2,1]}}} & \\\\Huge {{{mat[2,2]}}}      \n",
    "            \\\\end{{bmatrix*}} \n",
    "            \\\\begin{{bmatrix*}}\n",
    "                  \\\\Huge a_1\\\\\\\\[1.8em]\n",
    "                  \\\\Huge a_2\\\\\\\\[1.8em]\n",
    "                  \\\\Huge a_3\n",
    "            \\\\end{{bmatrix*}}=\n",
    "            \\\\begin{{bmatrix*}}\n",
    "                  \\\\Huge {{{vec_b[0]}}}\\\\\\\\[1em]\n",
    "                  \\\\Huge {{{vec_b[1]}}}\\\\\\\\[1em]\n",
    "                  \\\\Huge {{{vec_b[2]}}}\n",
    "            \\\\end{{bmatrix*}}\n",
    "      \\\\end{{equation*}}\n",
    "\"\"\")"
   ]
  },
  {
   "cell_type": "code",
   "execution_count": 134,
   "metadata": {},
   "outputs": [
    {
     "name": "stdout",
     "output_type": "stream",
     "text": [
      "forward elimination\n",
      "\n",
      "[[ 25.    5.    1.  106.8]\n",
      " [ 64.    8.    1.  177.2]\n",
      " [144.   12.    1.  279.2]]\n",
      "\n",
      "[[  25.       5.       1.     106.8  ]\n",
      " [   0.      -4.8     -1.56   -96.208]\n",
      " [   0.     -16.8     -4.76  -335.968]]\n",
      "\n",
      "[[ 25.      5.      1.    106.8  ]\n",
      " [  0.     -4.8    -1.56  -96.208]\n",
      " [  0.      0.      0.7     0.76 ]]\n",
      "\n",
      "backward substitution\n",
      "\n",
      "x[2] = 0.7599999999999909/0.6999999999999993 = 1.0857142857142739\n",
      "\n",
      "x[1] = (-96.20800000000003 + 1.6937142857142673)/-4.800000000000001 = 19.690476190476197\n",
      "\n",
      "x[0] = (106.8 - 99.53809523809527)/25.0 = 0.2904761904761893\n",
      "\n",
      "\n",
      "The solution is: \n",
      "X0 = 0.29048\tX1 = 19.69048\tX2 = 1.08571\t"
     ]
    }
   ],
   "source": [
    "\n",
    " \n",
    "n = 3\n",
    "a = np.concatenate((mat,vec_b.reshape(-1,1)),axis=1)\n",
    "\n",
    "x = np.zeros(n)\n",
    "print('forward elimination\\n')\n",
    "for i in range(n):\n",
    "    print(a,end='\\n\\n')\n",
    "    for j in range(i+1, n):\n",
    "        ratio = a[j][i]/a[i][i]\n",
    "         \n",
    "        for k in range(n+1):\n",
    "            a[j][k] = a[j][k] - ratio * a[i][k]\n",
    " \n",
    "print('backward substitution\\n')\n",
    "x[n-1] = a[n-1][n]/a[n-1][n-1]\n",
    "print(f\"x[{n-1}] = {a[n-1][n]}/{a[n-1][n-1]} = {x[n-1]}\",end='\\n\\n')\n",
    "for i in range(n-2,-1,-1):\n",
    "    x[i] = a[i][n]\n",
    "    t=0 \n",
    "    for j in range(i+1,n):\n",
    "        x[i] = x[i] - a[i][j]*x[j]\n",
    "        t += a[i][j]*x[j]\n",
    "     \n",
    "    x[i] = x[i]/a[i][i]\n",
    "    sign = '+' if t<0 else '-'\n",
    "    print(f\"x[{i}] = ({a[i][n]} {sign} {abs(t)})/{a[i][i]} = {x[i]}\", end='\\n\\n')\n",
    "print('\\nThe solution is: ')\n",
    "for i in range(n):\n",
    "    print('X%d = %0.5f' %(i,x[i]), end = '\\t')\n",
    "x_bk = x"
   ]
  },
  {
   "cell_type": "markdown",
   "metadata": {},
   "source": [
    "<center>\n",
    "<hr>\n",
    "<font size=\"20\" color='Blue' >Gauss Elimination with Pivot </font>\n",
    "<hr>\n",
    "</center>"
   ]
  },
  {
   "cell_type": "code",
   "execution_count": 135,
   "metadata": {},
   "outputs": [
    {
     "name": "stdout",
     "output_type": "stream",
     "text": [
      "Matrix (A):\n",
      "[[1.e-20 1.e+00]\n",
      " [1.e+00 1.e+00]]\n",
      "\n",
      "Vector (b):\n",
      "[1 2]\n",
      "\n",
      "Augmented Matrix [A|b]:\n",
      "[[1.e-20 1.e+00 1.e+00]\n",
      " [1.e+00 1.e+00 2.e+00]]\n",
      "\n",
      "Augmented Matrix after Forward Elimination (Naive):\n",
      "[[ 1.e-20  1.e+00  1.e+00]\n",
      " [ 0.e+00 -1.e+20 -1.e+20]]\n",
      "\n",
      "Solution (x):\n",
      "[0. 1.]\n"
     ]
    }
   ],
   "source": [
    "# Example to show the potential problem of naive Gauss elimination\n",
    "mat = np.array([[1e-20, 1], [1, 1]])\n",
    "vec_b = np.array([1, 2])\n",
    "\n",
    "print(\"Matrix (A):\")\n",
    "print(mat)\n",
    "print(\"\\nVector (b):\")\n",
    "print(vec_b)\n",
    "\n",
    "# Augmented matrix\n",
    "augmented_mat = np.concatenate((mat, vec_b.reshape(-1, 1)), axis=1)\n",
    "\n",
    "print(\"\\nAugmented Matrix [A|b]:\")\n",
    "print(augmented_mat)\n",
    "\n",
    "# Forward elimination without pivoting\n",
    "n = len(vec_b)\n",
    "for i in range(n):\n",
    "    for j in range(i + 1, n):\n",
    "        factor = augmented_mat[j, i] / augmented_mat[i, i]\n",
    "        augmented_mat[j, i:] -= factor * augmented_mat[i, i:]\n",
    "\n",
    "print(\"\\nAugmented Matrix after Forward Elimination (Naive):\")\n",
    "print(augmented_mat)\n",
    "\n",
    "# Back substitution\n",
    "x = np.zeros(n)\n",
    "x[-1] = augmented_mat[-1, -1] / augmented_mat[-1, -2]\n",
    "for i in range(n - 2, -1, -1):\n",
    "    x[i] = (augmented_mat[i, -1] - np.dot(augmented_mat[i, i + 1:n], x[i + 1:])) / augmented_mat[i, i]\n",
    "\n",
    "print(\"\\nSolution (x):\")\n",
    "print(x)\n",
    "\n",
    "# Note: The solution may be inaccurate due to the lack of partial pivoting."
   ]
  },
  {
   "cell_type": "code",
   "execution_count": 136,
   "metadata": {},
   "outputs": [
    {
     "name": "stdout",
     "output_type": "stream",
     "text": [
      "[[144  12   1]\n",
      " [ 64   8   1]\n",
      " [ 25   5   1]]\n",
      "[279.2 177.2 106.8]\n"
     ]
    }
   ],
   "source": [
    "mat = np.array([[144,12,1],[64,8,1],[25,5,1]])\n",
    "vec_b = np.array([279.2,177.2,106.8])\n",
    "print(mat)\n",
    "print(vec_b)"
   ]
  },
  {
   "cell_type": "code",
   "execution_count": 137,
   "metadata": {},
   "outputs": [
    {
     "data": {
      "text/latex": [
       " \\begin{equation*}\n",
       "            \\begin{bmatrix*} \n",
       "                  \\Huge {144} & \\Huge {12} & \\Huge {1}\\\\[1em]\n",
       "                  \\Huge {64} & \\Huge {8} & \\Huge {1}\\\\[1em]\n",
       "                  \\Huge {25} & \\Huge {5} & \\Huge {1}      \n",
       "            \\end{bmatrix*} \n",
       "            \\begin{bmatrix*}\n",
       "                  \\Huge a_1\\\\[1.8em]\n",
       "                  \\Huge a_2\\\\[1.8em]\n",
       "                  \\Huge a_3\n",
       "            \\end{bmatrix*}=\n",
       "            \\begin{bmatrix*}\n",
       "                  \\Huge {279.2}\\\\[1em]\n",
       "                  \\Huge {177.2}\\\\[1em]\n",
       "                  \\Huge {106.8}\n",
       "            \\end{bmatrix*}\n",
       "      \\end{equation*}\n"
      ],
      "text/plain": [
       "<IPython.core.display.Latex object>"
      ]
     },
     "execution_count": 137,
     "metadata": {},
     "output_type": "execute_result"
    }
   ],
   "source": [
    "Latex(f\"\"\" \\\\begin{{equation*}}\n",
    "            \\\\begin{{bmatrix*}} \n",
    "                  \\\\Huge {{{mat[0,0]}}} & \\\\Huge {{{mat[0,1]}}} & \\\\Huge {{{mat[0,2]}}}\\\\\\\\[1em]\n",
    "                  \\\\Huge {{{mat[1,0]}}} & \\\\Huge {{{mat[1,1]}}} & \\\\Huge {{{mat[1,2]}}}\\\\\\\\[1em]\n",
    "                  \\\\Huge {{{mat[2,0]}}} & \\\\Huge {{{mat[2,1]}}} & \\\\Huge {{{mat[2,2]}}}      \n",
    "            \\\\end{{bmatrix*}} \n",
    "            \\\\begin{{bmatrix*}}\n",
    "                  \\\\Huge a_1\\\\\\\\[1.8em]\n",
    "                  \\\\Huge a_2\\\\\\\\[1.8em]\n",
    "                  \\\\Huge a_3\n",
    "            \\\\end{{bmatrix*}}=\n",
    "            \\\\begin{{bmatrix*}}\n",
    "                  \\\\Huge {{{vec_b[0]}}}\\\\\\\\[1em]\n",
    "                  \\\\Huge {{{vec_b[1]}}}\\\\\\\\[1em]\n",
    "                  \\\\Huge {{{vec_b[2]}}}\n",
    "            \\\\end{{bmatrix*}}\n",
    "      \\\\end{{equation*}}\n",
    "\"\"\")"
   ]
  },
  {
   "cell_type": "code",
   "execution_count": 138,
   "metadata": {},
   "outputs": [
    {
     "name": "stdout",
     "output_type": "stream",
     "text": [
      "forward elimination\n",
      "\n",
      "[[144.   12.    1.  279.2]\n",
      " [ 64.    8.    1.  177.2]\n",
      " [ 25.    5.    1.  106.8]]\n",
      "\n",
      "[[144.          12.           1.         279.2       ]\n",
      " [  0.           2.66666667   0.55555556  53.11111111]\n",
      " [  0.           2.91666667   0.82638889  58.32777778]]\n",
      "\n",
      "[[1.44000000e+02 1.20000000e+01 1.00000000e+00 2.79200000e+02]\n",
      " [0.00000000e+00 2.66666667e+00 5.55555556e-01 5.31111111e+01]\n",
      " [0.00000000e+00 0.00000000e+00 2.18750000e-01 2.37500000e-01]]\n",
      "\n",
      "backward substitution\n",
      "\n",
      "x[2] = 0.23/0.2 = 1.15\n",
      "\n",
      "x[1] = (53.111111111111114 - 0.6388888888888888)/2.666666666666667 = 19.677083333333332\n",
      "\n",
      "x[0] = (279.2 - 237.275)/144.0 = 0.29114583333333327\n",
      "\n",
      "\n",
      "The solution is: \n",
      "X0 = 0.29115\tX1 = 19.67708\tX2 = 1.15000\t"
     ]
    }
   ],
   "source": [
    "def rnd(x,n=2):\n",
    "    t = 10**n\n",
    "    return math.floor(x*t)/t\n",
    "\n",
    "n = 3\n",
    "a = np.concatenate((mat,vec_b.reshape(-1,1)),axis=1)\n",
    "\n",
    "x = np.zeros(n)\n",
    "print('forward elimination\\n')\n",
    "for i in range(n):\n",
    "    print(a,end='\\n\\n')\n",
    "    for j in range(i+1, n):\n",
    "        ratio = a[j][i]/a[i][i]\n",
    "         \n",
    "        for k in range(n+1):\n",
    "            a[j][k] = a[j][k] - ratio * a[i][k]\n",
    " \n",
    "print('backward substitution\\n')\n",
    "a[n-1][n]=rnd(a[n-1][n])\n",
    "a[n-1][n-1]=rnd(a[n-1][n-1],1)\n",
    "x[n-1] = rnd(a[n-1][n])/rnd(a[n-1][n-1])\n",
    "print(f\"x[{n-1}] = {a[n-1][n]}/{a[n-1][n-1]} = {x[n-1]}\",end='\\n\\n')\n",
    "for i in range(n-2,-1,-1):\n",
    "    x[i] = a[i][n]\n",
    "    t=0 \n",
    "    for j in range(i+1,n):\n",
    "        x[i] = x[i] - a[i][j]*x[j]\n",
    "        t += a[i][j]*x[j]\n",
    "     \n",
    "    x[i] = x[i]/a[i][i]\n",
    "    sign = '+' if t<0 else '-'\n",
    "    print(f\"x[{i}] = ({a[i][n]} {sign} {abs(t)})/{a[i][i]} = {x[i]}\", end='\\n\\n')\n",
    "print('\\nThe solution is: ')\n",
    "for i in range(n):\n",
    "    print('X%d = %0.5f' %(i,x[i]), end = '\\t')"
   ]
  },
  {
   "cell_type": "code",
   "execution_count": 139,
   "metadata": {},
   "outputs": [
    {
     "name": "stdout",
     "output_type": "stream",
     "text": [
      "forward elimination\n",
      "\n",
      "[[144.   12.    1.  279.2]\n",
      " [ 64.    8.    1.  177.2]\n",
      " [ 25.    5.    1.  106.8]]\n",
      "\n",
      "[[144.          12.           1.         279.2       ]\n",
      " [  0.           2.66666667   0.55555556  53.11111111]\n",
      " [  0.           2.91666667   0.82638889  58.32777778]]\n",
      "\n",
      "[[1.44000000e+02 1.20000000e+01 1.00000000e+00 2.79200000e+02]\n",
      " [0.00000000e+00 2.66666667e+00 5.55555556e-01 5.31111111e+01]\n",
      " [0.00000000e+00 0.00000000e+00 2.18750000e-01 2.37500000e-01]]\n",
      "\n",
      "backward substitution\n",
      "\n",
      "x[2] = 0.23749999999999716/0.2187499999999999 = 1.0857142857142732\n",
      "\n",
      "x[1] = (53.111111111111114 - 0.6031746031745963)/2.666666666666667 = 19.690476190476193\n",
      "\n",
      "x[0] = (279.2 - 237.3714285714286)/144.0 = 0.2904761904761901\n",
      "\n",
      "\n",
      "The solution is: \n",
      "X0 = 0.29048\tX1 = 19.69048\tX2 = 1.08571\t"
     ]
    }
   ],
   "source": [
    "n = 3\n",
    "a = np.concatenate((mat,vec_b.reshape(-1,1)),axis=1)\n",
    "\n",
    "x = np.zeros(n)\n",
    "print('forward elimination\\n')\n",
    "for i in range(n):\n",
    "    print(a,end='\\n\\n')\n",
    "    for j in range(i+1, n):\n",
    "        ratio = a[j][i]/a[i][i]\n",
    "         \n",
    "        for k in range(n+1):\n",
    "            a[j][k] = a[j][k] - ratio * a[i][k]\n",
    " \n",
    "print('backward substitution\\n')\n",
    "x[n-1] = a[n-1][n]/a[n-1][n-1]\n",
    "print(f\"x[{n-1}] = {a[n-1][n]}/{a[n-1][n-1]} = {x[n-1]}\",end='\\n\\n')\n",
    "for i in range(n-2,-1,-1):\n",
    "    x[i] = a[i][n]\n",
    "    t=0 \n",
    "    for j in range(i+1,n):\n",
    "        x[i] = x[i] - a[i][j]*x[j]\n",
    "        t += a[i][j]*x[j]\n",
    "     \n",
    "    x[i] = x[i]/a[i][i]\n",
    "    sign = '+' if t<0 else '-'\n",
    "    print(f\"x[{i}] = ({a[i][n]} {sign} {abs(t)})/{a[i][i]} = {x[i]}\", end='\\n\\n')\n",
    "print('\\nThe solution is: ')\n",
    "for i in range(n):\n",
    "    print('X%d = %0.5f' %(i,x[i]), end = '\\t')"
   ]
  },
  {
   "cell_type": "markdown",
   "metadata": {},
   "source": [
    "<center>\n",
    "<hr>\n",
    "<font size=\"20\" color='Blue' >Gauss Seidel Method</font>\n",
    "<hr>\n",
    "</center>"
   ]
  },
  {
   "cell_type": "code",
   "execution_count": 140,
   "metadata": {},
   "outputs": [
    {
     "name": "stdout",
     "output_type": "stream",
     "text": [
      "[[ 25   5   1]\n",
      " [ 64   8   1]\n",
      " [144  12   1]]\n",
      "[106.8 177.2 279.2]\n"
     ]
    }
   ],
   "source": [
    "mat = np.array([[25,5,1],[64,8,1],[144,12,1]])\n",
    "vec_b = np.array([106.8,177.2,279.2])\n",
    "print(mat)\n",
    "print(vec_b)"
   ]
  },
  {
   "cell_type": "code",
   "execution_count": 141,
   "metadata": {},
   "outputs": [
    {
     "name": "stdout",
     "output_type": "stream",
     "text": [
      "[np.float64(0.5402777777777777), np.float64(65.40833333333332), np.float64(1276.3428571428578)]\n",
      "[np.float64(-13.572519841269845), np.float64(-199.45476190476202), np.float64(1276.3428571428578)]\n",
      "[np.float64(8.499404761904769), np.float64(-199.45476190476202), np.float64(1276.3428571428578)]\n",
      "[np.float64(8.499404761904769), np.float64(-199.45476190476202), np.float64(1276.3428571428578)]\n",
      "[np.float64(8.499404761904769), np.float64(-199.45476190476202), np.float64(1276.3428571428578)]\n",
      "[np.float64(8.499404761904769), np.float64(-199.45476190476202), np.float64(1276.3428571428578)]\n",
      "[np.float64(8.499404761904769), np.float64(-199.45476190476202), np.float64(1276.3428571428578)]\n",
      "[np.float64(8.499404761904769), np.float64(-199.45476190476202), np.float64(1276.3428571428578)]\n",
      "[np.float64(8.499404761904769), np.float64(-199.45476190476202), np.float64(1276.3428571428578)]\n",
      "[np.float64(8.499404761904769), np.float64(-199.45476190476202), np.float64(1276.3428571428578)]\n"
     ]
    }
   ],
   "source": [
    "def seidel(a, x ,b):\n",
    "    #Finding length of a(3)       \n",
    "    n = len(a)                   \n",
    "    # for loop for 3 times as to calculate x, y , z\n",
    "    for j in range(0, n):        \n",
    "        # temp variable d to store b[j]\n",
    "        d = b[j]                  \n",
    "\n",
    "        # to calculate respective xi, yi, zi\n",
    "        for i in range(0, n):     \n",
    "            if(j != i):\n",
    "                d-=a[j][i] * x[i]\n",
    "        # updating the value of our solution        \n",
    "        x[j] = d / a[j][j]\n",
    "    # returning our updated solution           \n",
    "    return x    \n",
    "\n",
    "x=[1,2,5]\n",
    "\n",
    "for i in range(0, 10):\n",
    "    x = seidel(a, x, vec_b)\n",
    "    print(x)\n",
    "\n"
   ]
  },
  {
   "cell_type": "code",
   "execution_count": 142,
   "metadata": {},
   "outputs": [
    {
     "name": "stdout",
     "output_type": "stream",
     "text": [
      "[[144  12   1]\n",
      " [ 64   8   1]\n",
      " [ 25   5   1]]\n",
      "[279.2 177.2 106.8]\n",
      "[np.float64(1.7374999999999998), np.float64(7.625), np.float64(25.237500000000004)]\n",
      "[np.float64(1.1282118055555554), np.float64(9.969618055555554), np.float64(28.74661458333334)]\n",
      "[np.float64(0.9084581163194447), np.float64(11.289008246527773), np.float64(27.64350585937502)]\n",
      "[np.float64(0.8061694109881368), np.float64(12.245206479673026), np.float64(25.419732326931438)]\n",
      "[np.float64(0.7419290966457796), np.float64(13.037100685967332), np.float64(23.066269154018855)]\n",
      "[np.float64(0.692281407044258), np.float64(13.728465099393576), np.float64(20.85063932692566)]\n",
      "[np.float64(0.6500540241691071), np.float64(14.343237890781435), np.float64(18.83245994186514)]\n",
      "[np.float64(0.6128380928385948), np.float64(14.8932377645581), np.float64(17.01285885624462)]\n",
      "[np.float64(0.5796408886740152), np.float64(15.3862655335773), np.float64(15.377650115263123)]\n",
      "[np.float64(0.5499108575125644), np.float64(15.828506875491591), np.float64(13.909694184727925)]\n",
      "[np.float64(0.5232515507595346), np.float64(16.22527582083273), np.float64(12.592332126847978)]\n",
      "[np.float64(0.49933581960527257), np.float64(16.58127192730182), np.float64(11.410244873359076)]\n",
      "[np.float64(0.47787841665985464), np.float64(16.900692057551275), np.float64(10.349579295747247)]\n",
      "[np.float64(0.45862580565026), np.float64(17.187296142829513), np.float64(9.397874144595932)]\n",
      "[np.float64(0.4413511954267353), np.float64(17.444456168511625), np.float64(8.543939271773496)]\n",
      "[np.float64(0.4258512965700485), np.float64(17.675197218467925), np.float64(7.777731493409149)]\n",
      "[np.float64(0.4119437630901094), np.float64(17.882233458602983), np.float64(7.0902386297323545)]\n",
      "[np.float64(0.39946499907661004), np.float64(18.068000178670573), np.float64(6.47337412973188)]\n",
      "[np.float64(0.3882682203209808), np.float64(18.23468247121567), np.float64(5.919882135897126)]\n",
      "[np.float64(0.37822172367718626), np.float64(18.38424094359537), np.float64(5.423252190093493)]\n",
      "[np.float64(0.36920733671362554), np.float64(18.518434782529305), np.float64(4.977642669512832)]\n",
      "[np.float64(0.3611190273620521), np.float64(18.638842447414476), np.float64(4.57781207887632)]\n",
      "[np.float64(0.3538616566121525), np.float64(18.74688023724324), np.float64(4.21905739847999)]\n",
      "[np.float64(0.3473498594069523), np.float64(18.84381894993438), np.float64(3.8971587651542734)]\n",
      "[np.float64(0.3415070405252302), np.float64(18.930798830153872), np.float64(3.608329836099884)]\n",
      "[np.float64(0.3362644736253726), np.float64(19.008842981484534), np.float64(3.3491732519430144)]\n",
      "[np.float64(0.3315604928489067), np.float64(19.078869400715867), np.float64(3.116640675197999)]\n",
      "[np.float64(0.3273397674736916), np.float64(19.141701775810716), np.float64(2.907996934104119)]\n",
      "[np.float64(0.32355265108449494), np.float64(19.198079174561023), np.float64(2.720787850082502)]\n",
      "[np.float64(0.32015459760545284), np.float64(19.248664737896064), np.float64(2.5528113703833526)]\n",
      "[np.float64(0.3171056373254435), np.float64(19.29405348009853), np.float64(2.4020916663712626)]\n",
      "[np.float64(0.31436990675309967), np.float64(19.334779287678792), np.float64(2.266855892778537)]\n",
      "[np.float64(0.31191522677136074), np.float64(19.371321199231794), np.float64(2.145513334557009)]\n",
      "[np.float64(0.30971272412959344), np.float64(19.404109040143624), np.float64(2.036636696042038)]\n",
      "[np.float64(0.3077364918210727), np.float64(19.43352847842616), np.float64(1.9389453123423834)]\n",
      "[np.float64(0.3059632843509977), np.float64(19.45992556114922), np.float64(1.8512900854789507)]\n",
      "[np.float64(0.3043722443106278), np.float64(19.48361078483011), np.float64(1.772639968083766)]\n",
      "[np.float64(0.3029446570413535), np.float64(19.5048627476587), np.float64(1.7020698356726598)]\n",
      "[np.float64(0.3016637305029371), np.float64(19.523931426517418), np.float64(1.6387496048394752)]\n",
      "[np.float64(0.3005143977566077), np.float64(19.541041117342203), np.float64(1.5819344693737918)]\n",
      "[np.float64(0.2994831397397205), np.float64(19.55639307341051), np.float64(1.5309561394544318)]\n",
      "[np.float64(0.2985578262473571), np.float64(19.570167872589337), np.float64(1.4852149808693866)]\n",
      "[np.float64(0.2977275732504066), np.float64(19.58252754138807), np.float64(1.4441729617994667)]\n",
      "[np.float64(0.29698261487183114), np.float64(19.593617460800417), np.float64(1.407347324202135)]\n",
      "[np.float64(0.29631418851522817), np.float64(19.603568076352907), np.float64(1.3743049053547622)]\n",
      "[np.float64(0.29571443179451623), np.float64(19.612496432474522), np.float64(1.3446570427644673)]\n",
      "[np.float64(0.29517629005236984), np.float64(19.620507549235484), np.float64(1.3180550025133329)]\n",
      "[np.float64(0.29469343337958925), np.float64(19.62769565764912), np.float64(1.2941858772646526)]\n",
      "[np.float64(0.29426018215934646), np.float64(19.634145308067144), np.float64(1.272768905680607)]\n",
      "[np.float64(0.2938714402605116), np.float64(19.639932364705828), np.float64(1.2535521699580698)]\n",
      "[np.float64(0.29352263509424986), np.float64(19.645124898001242), np.float64(1.2363096326375427)]\n",
      "[np.float64(0.29320966382880237), np.float64(19.649783985289886), np.float64(1.2208384778305117)]\n",
      "[np.float64(0.2929288451297975), np.float64(19.653964429232804), np.float64(1.2069567255910414)]\n",
      "[np.float64(0.2926768758584395), np.float64(19.657715402433602), np.float64(1.194501091370995)]\n",
      "[np.float64(0.29245079221823445), np.float64(19.661081025832747), np.float64(1.1833250653804015)]\n",
      "[np.float64(0.29224793489324036), np.float64(19.664100887681528), np.float64(1.1732971892613477)]\n",
      "[np.float64(0.2920659177677799), np.float64(19.66681050920009), np.float64(1.1642995098050477)]\n",
      "[np.float64(0.2919025998596796), np.float64(19.66924176239693), np.float64(1.1562261915233734)]\n",
      "[np.float64(0.2917560601368991), np.float64(19.671423244964387), np.float64(1.1489822717555853)]\n",
      "[np.float64(0.29162457492133165), np.float64(19.673380616659898), np.float64(1.1424825436672137)]\n",
      "[np.float64(0.2915065976139861), np.float64(19.67513690112971), np.float64(1.1366505540017755)]\n",
      "[np.float64(0.2914007405030672), np.float64(19.676712756725237), np.float64(1.1314177037971263)]\n",
      "[np.float64(0.29130575844097234), np.float64(19.67812671949758), np.float64(1.1267224414877859)]\n",
      "[np.float64(0.29122053419820315), np.float64(19.6793954212284), np.float64(1.1225095389029178)]\n",
      "[np.float64(0.2911440653219186), np.float64(19.680533785061783), np.float64(1.1187294416431115)]\n",
      "[np.float64(0.29107545234455195), np.float64(19.681555201038194), np.float64(1.1153376861952324)]\n",
      "[np.float64(0.2910138882037947), np.float64(19.68247168359524), np.float64(1.1122943769289435)]\n",
      "[np.float64(0.2909586487495013), np.float64(19.68329401288787), np.float64(1.1095637168231178)]\n",
      "[np.float64(0.29090908422585016), np.float64(19.684031861590306), np.float64(1.1071135864022068)]\n",
      "[np.float64(0.29086461162857025), np.float64(19.684693908671164), np.float64(1.1049151659299241)]\n",
      "[np.float64(0.290824707847334), np.float64(19.685287941480087), np.float64(1.102942596416213)]\n",
      "[np.float64(0.29078890351265774), np.float64(19.685820947346713), np.float64(1.1011726754499875)]\n",
      "[np.float64(0.29075677747492673), np.float64(19.686299195769337), np.float64(1.0995845842801515)]\n",
      "[np.float64(0.2907279518506097), np.float64(19.6867283121601), np.float64(1.098159642934263)]\n",
      "[np.float64(0.29070208757739263), np.float64(19.687113344014076), np.float64(1.0968810904948043)]\n",
      "[np.float64(0.2906788804259464), np.float64(19.687458820280575), np.float64(1.0957338879484695)]\n",
      "[np.float64(0.2906580574214209), np.float64(19.68776880463507), np.float64(1.0947045412891185)]\n",
      "[np.float64(0.29063937363256964), np.float64(19.6880469432783), np.float64(1.093780942794254)]\n",
      "[np.float64(0.2906226092907369), np.float64(19.688296507824823), np.float64(1.0929522286074587)]\n",
      "[np.float64(0.29060756720482395), np.float64(19.688520433785474), np.float64(1.0922086509520312)]\n",
      "[np.float64(0.29059407044182123), np.float64(19.688721355096426), np.float64(1.091541463472339)]\n",
      "[np.float64(0.2905819602456287), np.float64(19.688901635100926), np.float64(1.0909428183546481)]\n",
      "[np.float64(0.29057109416968213), np.float64(19.68906339434821), np.float64(1.0904056740168926)]\n",
      "[np.float64(0.2905613444014207), np.float64(19.689208535536523), np.float64(1.0899237122818732)]\n",
      "[np.float64(0.2905525962588878), np.float64(19.68933876589366), np.float64(1.0894912640595038)]\n",
      "[np.float64(0.2905447468417818), np.float64(19.689455617258304), np.float64(1.0891032426639384)]\n",
      "[np.float64(0.2905377038210861), np.float64(19.689560464098314), np.float64(1.088755083981269)]\n",
      "[np.float64(0.2905313843530483), np.float64(19.689654539677953), np.float64(1.088442692784028)]\n",
      "[np.float64(0.2905257141047259), np.float64(19.68973895056419), np.float64(1.0881623945608965)]\n",
      "[np.float64(0.29052062637964443), np.float64(19.68981468964273), np.float64(1.087910892295227)]\n",
      "[np.float64(0.29051606133327773), np.float64(19.68988264779687), np.float64(1.0876852276836928)]\n",
      "[np.float64(0.29051196526912393), np.float64(19.689943624386547), np.float64(1.0874827463391625)]\n",
      "[np.float64(0.29050829000709893), np.float64(19.689998336650813), np.float64(1.0873010665684575)]\n",
      "[np.float64(0.290504992316818), np.float64(19.690047428144396), np.float64(1.0871380513575701)]\n",
      "[np.float64(0.29050203340909486), np.float64(19.690091476307543), np.float64(1.0869917832349074)]\n",
      "[np.float64(0.29049937847968443), np.float64(19.69013099925816), np.float64(1.086860541717087)]\n",
      "[np.float64(0.2904969962998958), np.float64(19.690166461886193), np.float64(1.0867427830716423)]\n",
      "[np.float64(0.2904948588492641), np.float64(19.690198281321933), np.float64(1.0866371221587343)]\n",
      "[np.float64(0.2904929409859587), np.float64(19.690226831842487), np.float64(1.0865423161385905)]\n",
      "[np.float64(0.29049122015105244), np.float64(19.690252449274254), np.float64(1.0864572498524154)]\n"
     ]
    }
   ],
   "source": [
    "mat = np.array([[144,12,1],[64,8,1],[25,5,1]])\n",
    "vec_b = np.array([279.2,177.2,106.8])\n",
    "print(mat)\n",
    "print(vec_b)\n",
    "\n",
    "x=[1,2,5]\n",
    "\n",
    "for i in range(0, 100):\n",
    "    x = seidel(mat, x, vec_b)\n",
    "    print(x)\n"
   ]
  },
  {
   "cell_type": "code",
   "execution_count": 143,
   "metadata": {},
   "outputs": [
    {
     "name": "stdout",
     "output_type": "stream",
     "text": [
      "[ 0.29047619 19.69047619  1.08571429]\n",
      "[ 0.29047619 19.69047619  1.08571429]\n",
      "[ 0.29047619 19.69047619  1.08571429]\n",
      "[ 0.29047619 19.69047619  1.08571429]\n",
      "[ 0.29047619 19.69047619  1.08571429]\n",
      "[ 0.29047619 19.69047619  1.08571429]\n",
      "[ 0.29047619 19.69047619  1.08571429]\n",
      "[ 0.29047619 19.69047619  1.08571429]\n",
      "[ 0.29047619 19.69047619  1.08571429]\n",
      "[ 0.29047619 19.69047619  1.08571429]\n"
     ]
    }
   ],
   "source": [
    "#x=[0.3,20,1]\n",
    "x = x_bk\n",
    "\n",
    "for i in range(0, 10):\n",
    "    x = seidel(mat, x, vec_b)\n",
    "    print(x)\n"
   ]
  },
  {
   "cell_type": "markdown",
   "metadata": {},
   "source": [
    "<font size=\"7\" color='Black' >Not converging, however, let's see the results of example 2</font>\n"
   ]
  },
  {
   "cell_type": "code",
   "execution_count": 144,
   "metadata": {},
   "outputs": [
    {
     "name": "stdout",
     "output_type": "stream",
     "text": [
      "[[12  3 -5]\n",
      " [ 1  5  3]\n",
      " [ 3  7 13]]\n",
      "[ 1 28 76]\n"
     ]
    }
   ],
   "source": [
    "x = [1,3,4]\n",
    "mat = np.array([[12,3,-5],[1,5,3],[3,7,13]])\n",
    "vec_b = np.dot(mat,x) #np.array([1,28,76])\n",
    "print(mat)\n",
    "print(vec_b)"
   ]
  },
  {
   "cell_type": "code",
   "execution_count": null,
   "metadata": {},
   "outputs": [
    {
     "name": "stdout",
     "output_type": "stream",
     "text": [
      "0-th iteration: [np.float64(0.5), np.float64(4.9), np.float64(3.092307692307692)]\n",
      "1-th iteration: [np.float64(0.14679487179487158), np.float64(3.7152564102564107), np.float64(3.811755424063116)]\n",
      "2-th iteration: [np.float64(0.7427506574621955), np.float64(3.164396614069691), np.float64(3.9708439791635053)]\n",
      "3-th iteration: [np.float64(0.946752504467371), np.float64(3.028143111608423), np.float64(3.997133900410687)]\n",
      "4-th iteration: [np.float64(0.9917700139356805), np.float64(3.0033656569664515), np.float64(4.0000869507252155)]\n",
      "5-th iteration: [np.float64(0.9991948152272269), np.float64(3.000108866519425), np.float64(4.0001271914371035)]\n",
      "6-th iteration: [np.float64(1.00002577980227), np.float64(2.9999185291772834), np.float64(4.0000379197194)]\n",
      "7-th iteration: [np.float64(1.0000361675887623), np.float64(2.999970014650607), np.float64(4.000007799590728)]\n",
      "8-th iteration: [np.float64(1.000010746166818), np.float64(2.9999931710121994), np.float64(4.000001197262628)]\n",
      "9-th iteration: [np.float64(1.0000022061063782), np.float64(2.999998840421148), np.float64(4.000000115287141)]\n"
     ]
    }
   ],
   "source": [
    "x=[1,0,1] # initial guess, true x = [1,2,4]\n",
    "\n",
    "for i in range(0, 10):\n",
    "    x = seidel(mat, x, vec_b)\n",
    "    print(f'{i}-th iteration: {x}')"
   ]
  },
  {
   "cell_type": "markdown",
   "metadata": {},
   "source": [
    "<font size=\"7\" color='Black' >It is converging...</font>\n"
   ]
  },
  {
   "cell_type": "markdown",
   "metadata": {},
   "source": [
    "<center>\n",
    "<hr>\n",
    "<font size=\"20\" color='Blue' >LU Decomposition Method </font>\n",
    "<hr>\n",
    "</center>"
   ]
  },
  {
   "cell_type": "markdown",
   "metadata": {},
   "source": [
    "<font size=\"7\" color='Black' >Do little Method </font>\n"
   ]
  },
  {
   "cell_type": "code",
   "execution_count": 146,
   "metadata": {},
   "outputs": [
    {
     "name": "stdout",
     "output_type": "stream",
     "text": [
      "25.0\t5.0\t1.0\t\n",
      "0.0\t0.0\t0.0\t\n",
      "0.0\t0.0\t0.0\t\n",
      "\n",
      "25.0\t5.0\t1.0\t\n",
      "0.0\t-4.8\t-1.56\t\n",
      "0.0\t0.0\t0.0\t\n",
      "\n",
      "25.0\t5.0\t1.0\t\n",
      "0.0\t-4.8\t-1.56\t\n",
      "0.0\t0.0\t0.7\t\n",
      "\n",
      "Lower Triangular\t\tUpper Triangular\t\tLower*Upper\n",
      "1.0\t0.0\t0.0\t\t25.0\t5.0\t1.0\t\t25.0\t5.0\t1.0\t\n",
      "2.56\t1.0\t0.0\t\t0.0\t-4.8\t-1.56\t\t64.0\t8.0\t1.0\t\n",
      "5.76\t3.5\t1.0\t\t0.0\t0.0\t0.7\t\t1.44e+02\t12.0\t1.0\t\n"
     ]
    }
   ],
   "source": [
    "# Python3 Program to decompose\n",
    "# a matrix into lower and\n",
    "# upper triangular matrix\n",
    "MAX = 100\n",
    "\n",
    "def luDecomposition(mat, n):\n",
    "\n",
    "\tlower = [[0.0 for x in range(n)]\n",
    "\t\t\tfor y in range(n)]\n",
    "\tupper = [[0.0 for x in range(n)]\n",
    "\t\t\tfor y in range(n)]\n",
    "\n",
    "\t# Decomposing matrix into Upper\n",
    "\t# and Lower triangular matrix\n",
    "\tfor i in range(n):\n",
    "\n",
    "\t\t# Upper Triangular\n",
    "\t\tfor k in range(i, n):\n",
    "\n",
    "\t\t\t# Summation of L(i, j) * U(j, k)\n",
    "\t\t\tsum = 0.0\n",
    "\t\t\tfor j in range(i):\n",
    "\t\t\t\tsum += (lower[i][j] * upper[j][k])\n",
    "\n",
    "\t\t\t# Evaluating U(i, k)\n",
    "\t\t\tupper[i][k] = mat[i][k] - sum\n",
    "\n",
    "\t\tfor l in range(n):\n",
    "\n",
    "\t\t\t# Upper\n",
    "\t\t\tfor m in range(n):\n",
    "\t\t\t\tprint(f'{upper[l][m]:0.3}', end=\"\\t\")\n",
    "\t\t\tprint(\"\")\n",
    "\t\tprint(\"\")\n",
    "\n",
    "\t\t# Lower Triangular\n",
    "\t\tfor k in range(i, n):\n",
    "\t\t\tif (i == k):\n",
    "\t\t\t\tlower[i][i] = 1.0 # Diagonal as 1\n",
    "\t\t\telse:\n",
    "\n",
    "\t\t\t\t# Summation of L(k, j) * U(j, i)\n",
    "\t\t\t\tsum = 0.0\n",
    "\t\t\t\tfor j in range(i):\n",
    "\t\t\t\t\tsum += (lower[k][j] * upper[j][i])\n",
    "\n",
    "\t\t\t\t# Evaluating L(k, i)\n",
    "\t\t\t\t# lower[k][i] = int((mat[k][i] - sum) / upper[i][i])\n",
    "\t\t\t\tlower[k][i] = ((mat[k][i] - sum) / upper[i][i])\n",
    "\n",
    "\tR = np.matmul(np.array(lower),np.array(upper))\n",
    "\t\n",
    "\t# setw is for displaying nicely\n",
    "\tprint(\"Lower Triangular\\t\\tUpper Triangular\\t\\tLower*Upper\")\n",
    "\n",
    "\t# Displaying the result :\n",
    "\tfor i in range(n):\n",
    "\n",
    "\t\t# Lower\n",
    "\t\tfor j in range(n):\n",
    "\t\t\tprint(f'{lower[i][j]:0.3}', end=\"\\t\")\n",
    "\t\tprint(\"\", end=\"\\t\")\n",
    "\n",
    "\t\t# Upper\n",
    "\t\tfor j in range(n):\n",
    "\t\t\tprint(f'{upper[i][j]:0.3}', end=\"\\t\")\n",
    "\t\tprint(\"\", end='\\t')\n",
    "\n",
    "\t\t# R\n",
    "\t\tfor j in range(n):\n",
    "\t\t\tprint(f'{R[i][j]:0.3}', end=\"\\t\")\n",
    "\t\tprint(\"\")\n",
    "\t\n",
    "\n",
    "\n",
    "# Driver code\n",
    "\n",
    "mat = np.array([[25.0,5.0,1.0],[64.0,8.0,1.0],[144.0,12.0,1.0]])\n",
    "\n",
    "luDecomposition(mat, 3)\n",
    "\n",
    "# This code is contributed by mits\n"
   ]
  },
  {
   "cell_type": "code",
   "execution_count": 147,
   "metadata": {},
   "outputs": [
    {
     "name": "stdout",
     "output_type": "stream",
     "text": [
      "[[0. 1. 0.]\n",
      " [0. 0. 1.]\n",
      " [1. 0. 0.]]\n",
      "[[1.         0.         0.        ]\n",
      " [0.17361111 1.         0.        ]\n",
      " [0.44444444 0.91428571 1.        ]]\n",
      "[[144.          12.           1.        ]\n",
      " [  0.           2.91666667   0.82638889]\n",
      " [  0.           0.          -0.2       ]]\n",
      "[[ 25.   5.   1.]\n",
      " [ 64.   8.   1.]\n",
      " [144.  12.   1.]]\n"
     ]
    }
   ],
   "source": [
    "import scipy.linalg\n",
    "A = np.array([[25.0,5.0,1.0],[64.0,8.0,1.0],[144.0,12.0,1.0]])\n",
    "P, L, U = scipy.linalg.lu(A)\n",
    "print(P)\n",
    "print(L)\n",
    "print(U)\n",
    "\n",
    "R = np.matmul(L,U)\n",
    "print(np.matmul(P,R))"
   ]
  },
  {
   "cell_type": "markdown",
   "metadata": {},
   "source": [
    "<center>\n",
    "<hr>\n",
    "<font size=\"20\" color='Blue' >That's the end... </font>\n",
    "<hr>\n",
    "</center>"
   ]
  }
 ],
 "metadata": {
  "kernelspec": {
   "display_name": "Python 3",
   "language": "python",
   "name": "python3"
  },
  "language_info": {
   "codemirror_mode": {
    "name": "ipython",
    "version": 3
   },
   "file_extension": ".py",
   "mimetype": "text/x-python",
   "name": "python",
   "nbconvert_exporter": "python",
   "pygments_lexer": "ipython3",
   "version": "3.13.2"
  }
 },
 "nbformat": 4,
 "nbformat_minor": 2
}
