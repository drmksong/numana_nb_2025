{
 "cells": [
  {
   "cell_type": "markdown",
   "metadata": {},
   "source": [
    "\n",
    "<center>\n",
    "<hr>\n",
    "<hr>\n",
    "<font style=\"font-size:5.4em ; color:black'\" > \n",
    "<span style=\"background : yellow\">\n",
    "#5 Algebra, Matrix Solvers\n",
    "</span>\n",
    "</font>\n",
    "<hr>\n",
    "<hr>\n",
    "</center>\n"
   ]
  },
  {
   "cell_type": "code",
   "execution_count": 1,
   "metadata": {},
   "outputs": [],
   "source": [
    "%matplotlib inline\n",
    "from IPython.display import display,Latex,Math,HTML\n",
    "import sympy as sym\n",
    "import math\n",
    "import matplotlib.pyplot as plt\n",
    "import matplotlib.animation as animation\n",
    "import numpy as np"
   ]
  },
  {
   "cell_type": "markdown",
   "metadata": {},
   "source": [
    "<center>\n",
    "<hr>\n",
    "<font size=\"20\" color='Blue' >Gauss Elimination</font>\n",
    "<hr>\n",
    "</center>"
   ]
  },
  {
   "cell_type": "code",
   "execution_count": 2,
   "metadata": {},
   "outputs": [
    {
     "name": "stdout",
     "output_type": "stream",
     "text": [
      "[[ 25   5   1]\n",
      " [ 64   8   1]\n",
      " [144  12   1]]\n",
      "[106.8 177.2 279.2]\n"
     ]
    }
   ],
   "source": [
    "mat = np.array([[25,5,1],[64,8,1],[144,12,1]])\n",
    "vec_b = np.array([106.8,177.2,279.2])\n",
    "print(mat)\n",
    "print(vec_b)"
   ]
  },
  {
   "cell_type": "code",
   "execution_count": 3,
   "metadata": {},
   "outputs": [
    {
     "data": {
      "text/latex": [
       " \\begin{equation*}\n",
       "            \\begin{bmatrix*} \n",
       "                  \\Huge {25} & \\Huge {5} & \\Huge {1}\\\\[1em]\n",
       "                  \\Huge {64} & \\Huge {8} & \\Huge {1}\\\\[1em]\n",
       "                  \\Huge {144} & \\Huge {12} & \\Huge {1}      \n",
       "            \\end{bmatrix*} \n",
       "            \\begin{bmatrix*}\n",
       "                  \\Huge a_1\\\\[1.8em]\n",
       "                  \\Huge a_2\\\\[1.8em]\n",
       "                  \\Huge a_3\n",
       "            \\end{bmatrix*}=\n",
       "            \\begin{bmatrix*}\n",
       "                  \\Huge {106.8}\\\\[1em]\n",
       "                  \\Huge {177.2}\\\\[1em]\n",
       "                  \\Huge {279.2}\n",
       "            \\end{bmatrix*}\n",
       "      \\end{equation*}\n"
      ],
      "text/plain": [
       "<IPython.core.display.Latex object>"
      ]
     },
     "execution_count": 3,
     "metadata": {},
     "output_type": "execute_result"
    }
   ],
   "source": [
    "Latex(f\"\"\" \\\\begin{{equation*}}\n",
    "            \\\\begin{{bmatrix*}} \n",
    "                  \\\\Huge {{{mat[0,0]}}} & \\\\Huge {{{mat[0,1]}}} & \\\\Huge {{{mat[0,2]}}}\\\\\\\\[1em]\n",
    "                  \\\\Huge {{{mat[1,0]}}} & \\\\Huge {{{mat[1,1]}}} & \\\\Huge {{{mat[1,2]}}}\\\\\\\\[1em]\n",
    "                  \\\\Huge {{{mat[2,0]}}} & \\\\Huge {{{mat[2,1]}}} & \\\\Huge {{{mat[2,2]}}}      \n",
    "            \\\\end{{bmatrix*}} \n",
    "            \\\\begin{{bmatrix*}}\n",
    "                  \\\\Huge a_1\\\\\\\\[1.8em]\n",
    "                  \\\\Huge a_2\\\\\\\\[1.8em]\n",
    "                  \\\\Huge a_3\n",
    "            \\\\end{{bmatrix*}}=\n",
    "            \\\\begin{{bmatrix*}}\n",
    "                  \\\\Huge {{{vec_b[0]}}}\\\\\\\\[1em]\n",
    "                  \\\\Huge {{{vec_b[1]}}}\\\\\\\\[1em]\n",
    "                  \\\\Huge {{{vec_b[2]}}}\n",
    "            \\\\end{{bmatrix*}}\n",
    "      \\\\end{{equation*}}\n",
    "\"\"\")"
   ]
  },
  {
   "cell_type": "code",
   "execution_count": 4,
   "metadata": {},
   "outputs": [
    {
     "name": "stdout",
     "output_type": "stream",
     "text": [
      "forward elimination\n",
      "\n",
      "[[ 25.    5.    1.  106.8]\n",
      " [ 64.    8.    1.  177.2]\n",
      " [144.   12.    1.  279.2]]\n",
      "\n",
      "[[  25.       5.       1.     106.8  ]\n",
      " [   0.      -4.8     -1.56   -96.208]\n",
      " [   0.     -16.8     -4.76  -335.968]]\n",
      "\n",
      "[[ 25.      5.      1.    106.8  ]\n",
      " [  0.     -4.8    -1.56  -96.208]\n",
      " [  0.      0.      0.7     0.76 ]]\n",
      "\n",
      "backward substitution\n",
      "\n",
      "x[2] = 0.7599999999999909/0.6999999999999993 = 1.0857142857142739\n",
      "\n",
      "x[1] = (-96.20800000000003 + 1.6937142857142673)/-4.800000000000001 = 19.690476190476197\n",
      "\n",
      "x[0] = (106.8 - 99.53809523809527)/25.0 = 0.2904761904761893\n",
      "\n",
      "\n",
      "The solution is: \n",
      "X0 = 0.29048\tX1 = 19.69048\tX2 = 1.08571\t"
     ]
    }
   ],
   "source": [
    "\n",
    " \n",
    "n = 3\n",
    "a = np.concatenate((mat,vec_b.reshape(-1,1)),axis=1)\n",
    "\n",
    "x = np.zeros(n)\n",
    "print('forward elimination\\n')\n",
    "for i in range(n):\n",
    "    print(a,end='\\n\\n')\n",
    "    for j in range(i+1, n):\n",
    "        ratio = a[j][i]/a[i][i]\n",
    "         \n",
    "        for k in range(n+1):\n",
    "            a[j][k] = a[j][k] - ratio * a[i][k]\n",
    " \n",
    "print('backward substitution\\n')\n",
    "x[n-1] = a[n-1][n]/a[n-1][n-1]\n",
    "print(f\"x[{n-1}] = {a[n-1][n]}/{a[n-1][n-1]} = {x[n-1]}\",end='\\n\\n')\n",
    "for i in range(n-2,-1,-1):\n",
    "    x[i] = a[i][n]\n",
    "    t=0 \n",
    "    for j in range(i+1,n):\n",
    "        x[i] = x[i] - a[i][j]*x[j]\n",
    "        t += a[i][j]*x[j]\n",
    "     \n",
    "    x[i] = x[i]/a[i][i]\n",
    "    sign = '+' if t<0 else '-'\n",
    "    print(f\"x[{i}] = ({a[i][n]} {sign} {abs(t)})/{a[i][i]} = {x[i]}\", end='\\n\\n')\n",
    "print('\\nThe solution is: ')\n",
    "for i in range(n):\n",
    "    print('X%d = %0.5f' %(i,x[i]), end = '\\t')"
   ]
  },
  {
   "cell_type": "markdown",
   "metadata": {},
   "source": [
    "<center>\n",
    "<hr>\n",
    "<font size=\"20\" color='Blue' >Gauss Elimination with Pivot </font>\n",
    "<hr>\n",
    "</center>"
   ]
  },
  {
   "cell_type": "code",
   "execution_count": 5,
   "metadata": {},
   "outputs": [
    {
     "name": "stdout",
     "output_type": "stream",
     "text": [
      "[[144  12   1]\n",
      " [ 25   5   1]\n",
      " [ 64   8   1]]\n",
      "[279.2 106.8 177.2]\n"
     ]
    }
   ],
   "source": [
    "mat = np.array([[144,12,1],[25,5,1],[64,8,1]])\n",
    "vec_b = np.array([279.2,106.8,177.2])\n",
    "print(mat)\n",
    "print(vec_b)"
   ]
  },
  {
   "cell_type": "code",
   "execution_count": 6,
   "metadata": {},
   "outputs": [
    {
     "data": {
      "text/latex": [
       " \\begin{equation*}\n",
       "            \\begin{bmatrix*} \n",
       "                  \\Huge {144} & \\Huge {12} & \\Huge {1}\\\\[1em]\n",
       "                  \\Huge {25} & \\Huge {5} & \\Huge {1}\\\\[1em]\n",
       "                  \\Huge {64} & \\Huge {8} & \\Huge {1}      \n",
       "            \\end{bmatrix*} \n",
       "            \\begin{bmatrix*}\n",
       "                  \\Huge a_1\\\\[1.8em]\n",
       "                  \\Huge a_2\\\\[1.8em]\n",
       "                  \\Huge a_3\n",
       "            \\end{bmatrix*}=\n",
       "            \\begin{bmatrix*}\n",
       "                  \\Huge {279.2}\\\\[1em]\n",
       "                  \\Huge {106.8}\\\\[1em]\n",
       "                  \\Huge {177.2}\n",
       "            \\end{bmatrix*}\n",
       "      \\end{equation*}\n"
      ],
      "text/plain": [
       "<IPython.core.display.Latex object>"
      ]
     },
     "execution_count": 6,
     "metadata": {},
     "output_type": "execute_result"
    }
   ],
   "source": [
    "Latex(f\"\"\" \\\\begin{{equation*}}\n",
    "            \\\\begin{{bmatrix*}} \n",
    "                  \\\\Huge {{{mat[0,0]}}} & \\\\Huge {{{mat[0,1]}}} & \\\\Huge {{{mat[0,2]}}}\\\\\\\\[1em]\n",
    "                  \\\\Huge {{{mat[1,0]}}} & \\\\Huge {{{mat[1,1]}}} & \\\\Huge {{{mat[1,2]}}}\\\\\\\\[1em]\n",
    "                  \\\\Huge {{{mat[2,0]}}} & \\\\Huge {{{mat[2,1]}}} & \\\\Huge {{{mat[2,2]}}}      \n",
    "            \\\\end{{bmatrix*}} \n",
    "            \\\\begin{{bmatrix*}}\n",
    "                  \\\\Huge a_1\\\\\\\\[1.8em]\n",
    "                  \\\\Huge a_2\\\\\\\\[1.8em]\n",
    "                  \\\\Huge a_3\n",
    "            \\\\end{{bmatrix*}}=\n",
    "            \\\\begin{{bmatrix*}}\n",
    "                  \\\\Huge {{{vec_b[0]}}}\\\\\\\\[1em]\n",
    "                  \\\\Huge {{{vec_b[1]}}}\\\\\\\\[1em]\n",
    "                  \\\\Huge {{{vec_b[2]}}}\n",
    "            \\\\end{{bmatrix*}}\n",
    "      \\\\end{{equation*}}\n",
    "\"\"\")"
   ]
  },
  {
   "cell_type": "code",
   "execution_count": 7,
   "metadata": {},
   "outputs": [
    {
     "name": "stdout",
     "output_type": "stream",
     "text": [
      "forward elimination\n",
      "\n",
      "[[144.   12.    1.  279.2]\n",
      " [ 25.    5.    1.  106.8]\n",
      " [ 64.    8.    1.  177.2]]\n",
      "\n",
      "[[144.          12.           1.         279.2       ]\n",
      " [  0.           2.91666667   0.82638889  58.32777778]\n",
      " [  0.           2.66666667   0.55555556  53.11111111]]\n",
      "\n",
      "[[ 1.44000000e+02  1.20000000e+01  1.00000000e+00  2.79200000e+02]\n",
      " [ 0.00000000e+00  2.91666667e+00  8.26388889e-01  5.83277778e+01]\n",
      " [ 0.00000000e+00  0.00000000e+00 -2.00000000e-01 -2.17142857e-01]]\n",
      "\n",
      "backward substitution\n",
      "\n",
      "x[2] = -0.22/-0.2 = 1.0999999999999999\n",
      "\n",
      "x[1] = (58.327777777777776 - 0.9090277777777777)/2.916666666666667 = 19.686428571428568\n",
      "\n",
      "x[0] = (279.2 - 237.33714285714282)/144.0 = 0.2907142857142858\n",
      "\n",
      "\n",
      "The solution is: \n",
      "X0 = 0.29071\tX1 = 19.68643\tX2 = 1.10000\t"
     ]
    }
   ],
   "source": [
    "def rnd(x,n=2):\n",
    "    t = 10**n\n",
    "    return math.floor(x*t)/t\n",
    "\n",
    "n = 3\n",
    "a = np.concatenate((mat,vec_b.reshape(-1,1)),axis=1)\n",
    "\n",
    "x = np.zeros(n)\n",
    "print('forward elimination\\n')\n",
    "for i in range(n):\n",
    "    print(a,end='\\n\\n')\n",
    "    for j in range(i+1, n):\n",
    "        ratio = a[j][i]/a[i][i]\n",
    "         \n",
    "        for k in range(n+1):\n",
    "            a[j][k] = a[j][k] - ratio * a[i][k]\n",
    " \n",
    "print('backward substitution\\n')\n",
    "a[n-1][n]=rnd(a[n-1][n])\n",
    "a[n-1][n-1]=rnd(a[n-1][n-1],1)\n",
    "x[n-1] = rnd(a[n-1][n])/rnd(a[n-1][n-1])\n",
    "print(f\"x[{n-1}] = {a[n-1][n]}/{a[n-1][n-1]} = {x[n-1]}\",end='\\n\\n')\n",
    "for i in range(n-2,-1,-1):\n",
    "    x[i] = a[i][n]\n",
    "    t=0 \n",
    "    for j in range(i+1,n):\n",
    "        x[i] = x[i] - a[i][j]*x[j]\n",
    "        t += a[i][j]*x[j]\n",
    "     \n",
    "    x[i] = x[i]/a[i][i]\n",
    "    sign = '+' if t<0 else '-'\n",
    "    print(f\"x[{i}] = ({a[i][n]} {sign} {abs(t)})/{a[i][i]} = {x[i]}\", end='\\n\\n')\n",
    "print('\\nThe solution is: ')\n",
    "for i in range(n):\n",
    "    print('X%d = %0.5f' %(i,x[i]), end = '\\t')"
   ]
  },
  {
   "cell_type": "code",
   "execution_count": 8,
   "metadata": {},
   "outputs": [
    {
     "name": "stdout",
     "output_type": "stream",
     "text": [
      "forward elimination\n",
      "\n",
      "[[144.   12.    1.  279.2]\n",
      " [ 25.    5.    1.  106.8]\n",
      " [ 64.    8.    1.  177.2]]\n",
      "\n",
      "[[144.          12.           1.         279.2       ]\n",
      " [  0.           2.91666667   0.82638889  58.32777778]\n",
      " [  0.           2.66666667   0.55555556  53.11111111]]\n",
      "\n",
      "[[ 1.44000000e+02  1.20000000e+01  1.00000000e+00  2.79200000e+02]\n",
      " [ 0.00000000e+00  2.91666667e+00  8.26388889e-01  5.83277778e+01]\n",
      " [ 0.00000000e+00  0.00000000e+00 -2.00000000e-01 -2.17142857e-01]]\n",
      "\n",
      "backward substitution\n",
      "\n",
      "x[2] = -0.21714285714285353/-0.19999999999999996 = 1.0857142857142679\n",
      "\n",
      "x[1] = (58.327777777777776 - 0.8972222222222074)/2.916666666666667 = 19.690476190476193\n",
      "\n",
      "x[0] = (279.2 - 237.3714285714286)/144.0 = 0.29047619047619017\n",
      "\n",
      "\n",
      "The solution is: \n",
      "X0 = 0.29048\tX1 = 19.69048\tX2 = 1.08571\t"
     ]
    }
   ],
   "source": [
    "n = 3\n",
    "a = np.concatenate((mat,vec_b.reshape(-1,1)),axis=1)\n",
    "\n",
    "x = np.zeros(n)\n",
    "print('forward elimination\\n')\n",
    "for i in range(n):\n",
    "    print(a,end='\\n\\n')\n",
    "    for j in range(i+1, n):\n",
    "        ratio = a[j][i]/a[i][i]\n",
    "         \n",
    "        for k in range(n+1):\n",
    "            a[j][k] = a[j][k] - ratio * a[i][k]\n",
    " \n",
    "print('backward substitution\\n')\n",
    "x[n-1] = a[n-1][n]/a[n-1][n-1]\n",
    "print(f\"x[{n-1}] = {a[n-1][n]}/{a[n-1][n-1]} = {x[n-1]}\",end='\\n\\n')\n",
    "for i in range(n-2,-1,-1):\n",
    "    x[i] = a[i][n]\n",
    "    t=0 \n",
    "    for j in range(i+1,n):\n",
    "        x[i] = x[i] - a[i][j]*x[j]\n",
    "        t += a[i][j]*x[j]\n",
    "     \n",
    "    x[i] = x[i]/a[i][i]\n",
    "    sign = '+' if t<0 else '-'\n",
    "    print(f\"x[{i}] = ({a[i][n]} {sign} {abs(t)})/{a[i][i]} = {x[i]}\", end='\\n\\n')\n",
    "print('\\nThe solution is: ')\n",
    "for i in range(n):\n",
    "    print('X%d = %0.5f' %(i,x[i]), end = '\\t')"
   ]
  },
  {
   "cell_type": "markdown",
   "metadata": {},
   "source": [
    "<center>\n",
    "<hr>\n",
    "<font size=\"20\" color='Blue' >Gauss Seidel Method</font>\n",
    "<hr>\n",
    "</center>"
   ]
  },
  {
   "cell_type": "code",
   "execution_count": 9,
   "metadata": {},
   "outputs": [
    {
     "name": "stdout",
     "output_type": "stream",
     "text": [
      "[[ 25   5   1]\n",
      " [ 64   8   1]\n",
      " [144  12   1]]\n",
      "[106.8 177.2 279.2]\n"
     ]
    }
   ],
   "source": [
    "mat = np.array([[25,5,1],[64,8,1],[144,12,1]])\n",
    "vec_b = np.array([106.8,177.2,279.2])\n",
    "print(mat)\n",
    "print(vec_b)"
   ]
  },
  {
   "cell_type": "code",
   "execution_count": 10,
   "metadata": {},
   "outputs": [
    {
     "name": "stdout",
     "output_type": "stream",
     "text": [
      "[0.5402777777777777, 59.337619047619036, -1396.0000000000002]\n",
      "[5.491309523809526, 456.28761904761905, -1396.0000000000002]\n",
      "[-27.587857142857143, 456.28761904761905, -1396.0000000000002]\n",
      "[-27.587857142857143, 456.28761904761905, -1396.0000000000002]\n",
      "[-27.587857142857143, 456.28761904761905, -1396.0000000000002]\n",
      "[-27.587857142857143, 456.28761904761905, -1396.0000000000002]\n",
      "[-27.587857142857143, 456.28761904761905, -1396.0000000000002]\n",
      "[-27.587857142857143, 456.28761904761905, -1396.0000000000002]\n",
      "[-27.587857142857143, 456.28761904761905, -1396.0000000000002]\n",
      "[-27.587857142857143, 456.28761904761905, -1396.0000000000002]\n"
     ]
    }
   ],
   "source": [
    "def seidel(a, x ,b):\n",
    "    #Finding length of a(3)       \n",
    "    n = len(a)                   \n",
    "    # for loop for 3 times as to calculate x, y , z\n",
    "    for j in range(0, n):        \n",
    "        # temp variable d to store b[j]\n",
    "        d = b[j]                  \n",
    "\n",
    "        # to calculate respective xi, yi, zi\n",
    "        for i in range(0, n):     \n",
    "            if(j != i):\n",
    "                d-=a[j][i] * x[i]\n",
    "        # updating the value of our solution        \n",
    "        x[j] = d / a[j][j]\n",
    "    # returning our updated solution           \n",
    "    return x    \n",
    "\n",
    "x=[1,2,5]\n",
    "\n",
    "for i in range(0, 10):\n",
    "    x = seidel(a, x, vec_b)\n",
    "    print(x)\n",
    "\n"
   ]
  },
  {
   "cell_type": "markdown",
   "metadata": {},
   "source": [
    "<font size=\"7\" color='Black' >Not converging, however, let's see the results of example 2</font>\n"
   ]
  },
  {
   "cell_type": "code",
   "execution_count": 11,
   "metadata": {},
   "outputs": [
    {
     "name": "stdout",
     "output_type": "stream",
     "text": [
      "[[12  3 -5]\n",
      " [ 1  5  3]\n",
      " [ 3  7 13]]\n",
      "[ 1 28 76]\n"
     ]
    }
   ],
   "source": [
    "mat = np.array([[12,3,-5],[1,5,3],[3,7,13]])\n",
    "vec_b = np.array([1,28,76])\n",
    "print(mat)\n",
    "print(vec_b)"
   ]
  },
  {
   "cell_type": "code",
   "execution_count": 12,
   "metadata": {},
   "outputs": [
    {
     "name": "stdout",
     "output_type": "stream",
     "text": [
      "0-th iteration: [0.5, 4.9, 3.092307692307692]\n",
      "1-th iteration: [0.14679487179487158, 3.7152564102564107, 3.811755424063116]\n",
      "2-th iteration: [0.7427506574621955, 3.164396614069691, 3.9708439791635053]\n",
      "3-th iteration: [0.946752504467371, 3.028143111608423, 3.997133900410687]\n",
      "4-th iteration: [0.9917700139356805, 3.0033656569664515, 4.0000869507252155]\n",
      "5-th iteration: [0.9991948152272269, 3.000108866519425, 4.0001271914371035]\n",
      "6-th iteration: [1.00002577980227, 2.9999185291772834, 4.0000379197194]\n",
      "7-th iteration: [1.0000361675887623, 2.999970014650607, 4.000007799590728]\n",
      "8-th iteration: [1.000010746166818, 2.9999931710121994, 4.000001197262628]\n",
      "9-th iteration: [1.0000022061063782, 2.999998840421148, 4.000000115287141]\n"
     ]
    }
   ],
   "source": [
    "x=[1,0,1]\n",
    "\n",
    "for i in range(0, 10):\n",
    "    x = seidel(mat, x, vec_b)\n",
    "    print(f'{i}-th iteration: {x}')"
   ]
  },
  {
   "cell_type": "markdown",
   "metadata": {},
   "source": [
    "<font size=\"7\" color='Black' >It is converging...</font>\n"
   ]
  },
  {
   "cell_type": "markdown",
   "metadata": {},
   "source": [
    "<center>\n",
    "<hr>\n",
    "<font size=\"20\" color='Blue' >LU Decomposition Method </font>\n",
    "<hr>\n",
    "</center>"
   ]
  },
  {
   "cell_type": "markdown",
   "metadata": {},
   "source": [
    "<font size=\"7\" color='Black' >Do little Method </font>\n"
   ]
  },
  {
   "cell_type": "code",
   "execution_count": 26,
   "metadata": {},
   "outputs": [
    {
     "name": "stdout",
     "output_type": "stream",
     "text": [
      "25.0\t5.0\t1.0\t\n",
      "0.0\t0.0\t0.0\t\n",
      "0.0\t0.0\t0.0\t\n",
      "\n",
      "25.0\t5.0\t1.0\t\n",
      "0.0\t-4.8\t-1.56\t\n",
      "0.0\t0.0\t0.0\t\n",
      "\n",
      "25.0\t5.0\t1.0\t\n",
      "0.0\t-4.8\t-1.56\t\n",
      "0.0\t0.0\t0.7\t\n",
      "\n",
      "Lower Triangular\t\tUpper Triangular\t\tLower*Upper\n",
      "1.0\t0.0\t0.0\t\t25.0\t5.0\t1.0\t\t25.0\t5.0\t1.0\t\n",
      "2.56\t1.0\t0.0\t\t0.0\t-4.8\t-1.56\t\t64.0\t8.0\t1.0\t\n",
      "5.76\t3.5\t1.0\t\t0.0\t0.0\t0.7\t\t1.44e+02\t12.0\t1.0\t\n"
     ]
    }
   ],
   "source": [
    "# Python3 Program to decompose\n",
    "# a matrix into lower and\n",
    "# upper triangular matrix\n",
    "MAX = 100\n",
    "\n",
    "def luDecomposition(mat, n):\n",
    "\n",
    "\tlower = [[0.0 for x in range(n)]\n",
    "\t\t\tfor y in range(n)]\n",
    "\tupper = [[0.0 for x in range(n)]\n",
    "\t\t\tfor y in range(n)]\n",
    "\n",
    "\t# Decomposing matrix into Upper\n",
    "\t# and Lower triangular matrix\n",
    "\tfor i in range(n):\n",
    "\n",
    "\t\t# Upper Triangular\n",
    "\t\tfor k in range(i, n):\n",
    "\n",
    "\t\t\t# Summation of L(i, j) * U(j, k)\n",
    "\t\t\tsum = 0.0\n",
    "\t\t\tfor j in range(i):\n",
    "\t\t\t\tsum += (lower[i][j] * upper[j][k])\n",
    "\n",
    "\t\t\t# Evaluating U(i, k)\n",
    "\t\t\tupper[i][k] = mat[i][k] - sum\n",
    "\n",
    "\t\tfor l in range(n):\n",
    "\n",
    "\t\t\t# Upper\n",
    "\t\t\tfor m in range(n):\n",
    "\t\t\t\tprint(f'{upper[l][m]:0.3}', end=\"\\t\")\n",
    "\t\t\tprint(\"\")\n",
    "\t\tprint(\"\")\n",
    "\n",
    "\t\t# Lower Triangular\n",
    "\t\tfor k in range(i, n):\n",
    "\t\t\tif (i == k):\n",
    "\t\t\t\tlower[i][i] = 1.0 # Diagonal as 1\n",
    "\t\t\telse:\n",
    "\n",
    "\t\t\t\t# Summation of L(k, j) * U(j, i)\n",
    "\t\t\t\tsum = 0.0\n",
    "\t\t\t\tfor j in range(i):\n",
    "\t\t\t\t\tsum += (lower[k][j] * upper[j][i])\n",
    "\n",
    "\t\t\t\t# Evaluating L(k, i)\n",
    "\t\t\t\t# lower[k][i] = int((mat[k][i] - sum) / upper[i][i])\n",
    "\t\t\t\tlower[k][i] = ((mat[k][i] - sum) / upper[i][i])\n",
    "\n",
    "\tR = np.matmul(np.array(lower),np.array(upper))\n",
    "\t\n",
    "\t# setw is for displaying nicely\n",
    "\tprint(\"Lower Triangular\\t\\tUpper Triangular\\t\\tLower*Upper\")\n",
    "\n",
    "\t# Displaying the result :\n",
    "\tfor i in range(n):\n",
    "\n",
    "\t\t# Lower\n",
    "\t\tfor j in range(n):\n",
    "\t\t\tprint(f'{lower[i][j]:0.3}', end=\"\\t\")\n",
    "\t\tprint(\"\", end=\"\\t\")\n",
    "\n",
    "\t\t# Upper\n",
    "\t\tfor j in range(n):\n",
    "\t\t\tprint(f'{upper[i][j]:0.3}', end=\"\\t\")\n",
    "\t\tprint(\"\", end='\\t')\n",
    "\n",
    "\t\t# R\n",
    "\t\tfor j in range(n):\n",
    "\t\t\tprint(f'{R[i][j]:0.3}', end=\"\\t\")\n",
    "\t\tprint(\"\")\n",
    "\t\n",
    "\n",
    "\n",
    "# Driver code\n",
    "\n",
    "mat = np.array([[25.0,5.0,1.0],[64.0,8.0,1.0],[144.0,12.0,1.0]])\n",
    "\n",
    "luDecomposition(mat, 3)\n",
    "\n",
    "# This code is contributed by mits\n"
   ]
  },
  {
   "cell_type": "code",
   "execution_count": 14,
   "metadata": {},
   "outputs": [
    {
     "name": "stdout",
     "output_type": "stream",
     "text": [
      "[[0. 1. 0.]\n",
      " [0. 0. 1.]\n",
      " [1. 0. 0.]]\n",
      "[[1.         0.         0.        ]\n",
      " [0.17361111 1.         0.        ]\n",
      " [0.44444444 0.91428571 1.        ]]\n",
      "[[144.          12.           1.        ]\n",
      " [  0.           2.91666667   0.82638889]\n",
      " [  0.           0.          -0.2       ]]\n",
      "[[ 25.   5.   1.]\n",
      " [ 64.   8.   1.]\n",
      " [144.  12.   1.]]\n"
     ]
    }
   ],
   "source": [
    "import scipy.linalg\n",
    "A = np.array([[25.0,5.0,1.0],[64.0,8.0,1.0],[144.0,12.0,1.0]])\n",
    "P, L, U = scipy.linalg.lu(A)\n",
    "print(P)\n",
    "print(L)\n",
    "print(U)\n",
    "\n",
    "R = np.matmul(L,U)\n",
    "print(np.matmul(P,R))"
   ]
  },
  {
   "cell_type": "markdown",
   "metadata": {},
   "source": [
    "<center>\n",
    "<hr>\n",
    "<font size=\"20\" color='Blue' >That's the end... </font>\n",
    "<hr>\n",
    "</center>"
   ]
  }
 ],
 "metadata": {
  "kernelspec": {
   "display_name": "Python 3",
   "language": "python",
   "name": "python3"
  },
  "language_info": {
   "codemirror_mode": {
    "name": "ipython",
    "version": 3
   },
   "file_extension": ".py",
   "mimetype": "text/x-python",
   "name": "python",
   "nbconvert_exporter": "python",
   "pygments_lexer": "ipython3",
   "version": "3.10.12"
  }
 },
 "nbformat": 4,
 "nbformat_minor": 2
}
