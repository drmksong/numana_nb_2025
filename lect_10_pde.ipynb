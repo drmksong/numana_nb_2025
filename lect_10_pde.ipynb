{
 "cells": [
  {
   "cell_type": "markdown",
   "metadata": {},
   "source": [
    "<center>\n",
    "<hr>\n",
    "<hr>\n",
    "<font style=\"font-size:5.4em ; color:black'\" > \n",
    "<span style=\"background : yellow\">\n",
    "#10 Partial Differential Equation\n",
    "</span>\n",
    "</font>\n",
    "<hr>\n",
    "<hr>\n",
    "</center>\n"
   ]
  },
  {
   "cell_type": "code",
   "execution_count": 1,
   "metadata": {},
   "outputs": [
    {
     "name": "stderr",
     "output_type": "stream",
     "text": [
      "Fontconfig warning: ignoring UTF-8: not a valid region tag\n",
      "Matplotlib is building the font cache; this may take a moment.\n"
     ]
    }
   ],
   "source": [
    "%matplotlib inline\n",
    "from IPython.display import display,Latex,Math,HTML\n",
    "import sympy as sym\n",
    "import math\n",
    "import numpy as np\n",
    "import scipy as sp\n",
    "import matplotlib.pyplot as plt\n",
    "import matplotlib.animation as animation"
   ]
  },
  {
   "cell_type": "markdown",
   "metadata": {},
   "source": [
    "<center>\n",
    "<hr>\n",
    "<font size=\"20\" color='Blue' >Implicit Method</font>\n",
    "<hr>\n",
    "</center>"
   ]
  },
  {
   "cell_type": "markdown",
   "metadata": {},
   "source": [
    "\n",
    "## Example 1 of Lecture #10 - Implicit Method\n",
    "\n",
    "### Program Statement\n",
    "\n",
    "* Consider a plate 3.0m x 3.0m that is subjected to the boundary conditions shown below.  Find the temperature at the interior nodes using a square grid with a length of 0.6m by using the Implicit Method.\n",
    ":"
   ]
  },
  {
   "cell_type": "markdown",
   "metadata": {},
   "source": [
    "![title](lect_8_ex1.png)"
   ]
  },
  {
   "cell_type": "code",
   "execution_count": 2,
   "metadata": {},
   "outputs": [
    {
     "data": {
      "text/latex": [
       " \\begin{equation*} \\huge\n",
       "      T_{i+1,j} + T_{i-1,j} + T_{i,j+1} + T_{i,j-1} - 4T_{i,j}= 0\n",
       "      \\end{equation*} \n",
       "      "
      ],
      "text/plain": [
       "<IPython.core.display.Latex object>"
      ]
     },
     "execution_count": 2,
     "metadata": {},
     "output_type": "execute_result"
    }
   ],
   "source": [
    "Latex(\"\"\" \\\\begin{equation*} \\\\huge\n",
    "      T_{i+1,j} + T_{i-1,j} + T_{i,j+1} + T_{i,j-1} - 4T_{i,j}= 0\n",
    "      \\\\end{equation*} \n",
    "      \"\"\")\n"
   ]
  },
  {
   "cell_type": "markdown",
   "metadata": {},
   "source": [
    "![title](lect_8_ex1-1.png)"
   ]
  },
  {
   "cell_type": "code",
   "execution_count": 3,
   "metadata": {},
   "outputs": [],
   "source": [
    "# 5 x 5 = 25\n",
    "# 16 nodes are known\n",
    "# 9 nodes are unknown"
   ]
  },
  {
   "cell_type": "code",
   "execution_count": 5,
   "metadata": {},
   "outputs": [
    {
     "name": "stdout",
     "output_type": "stream",
     "text": [
      "17\n",
      "(2, 3)\n"
     ]
    }
   ],
   "source": [
    "def ij_to_I(i,j):\n",
    "    return i+j*5\n",
    "\n",
    "def I_to_ij(I):\n",
    "    return I%5, I//5\n",
    "\n",
    "print(ij_to_I(2,3))\n",
    "print(I_to_ij(17))"
   ]
  },
  {
   "cell_type": "code",
   "execution_count": 30,
   "metadata": {},
   "outputs": [
    {
     "name": "stdout",
     "output_type": "stream",
     "text": [
      "[[ 1.  0.  0.  0.  0.  0.  0.  0.  0.  0.  0.  0.  0.  0.  0.  0.  0.  0.\n",
      "   0.  0.  0.  0.  0.  0.  0.]\n",
      " [ 0.  1.  0.  0.  0.  0.  0.  0.  0.  0.  0.  0.  0.  0.  0.  0.  0.  0.\n",
      "   0.  0.  0.  0.  0.  0.  0.]\n",
      " [ 0.  0.  1.  0.  0.  0.  0.  0.  0.  0.  0.  0.  0.  0.  0.  0.  0.  0.\n",
      "   0.  0.  0.  0.  0.  0.  0.]\n",
      " [ 0.  0.  0.  1.  0.  0.  0.  0.  0.  0.  0.  0.  0.  0.  0.  0.  0.  0.\n",
      "   0.  0.  0.  0.  0.  0.  0.]\n",
      " [ 0.  0.  0.  0.  1.  0.  0.  0.  0.  0.  0.  0.  0.  0.  0.  0.  0.  0.\n",
      "   0.  0.  0.  0.  0.  0.  0.]\n",
      " [ 0.  0.  0.  0.  0.  1.  0.  0.  0.  0.  0.  0.  0.  0.  0.  0.  0.  0.\n",
      "   0.  0.  0.  0.  0.  0.  0.]\n",
      " [ 0.  1.  0.  0.  0.  1. -4.  1.  0.  0.  0.  1.  0.  0.  0.  0.  0.  0.\n",
      "   0.  0.  0.  0.  0.  0.  0.]\n",
      " [ 0.  0.  1.  0.  0.  0.  1. -4.  1.  0.  0.  0.  1.  0.  0.  0.  0.  0.\n",
      "   0.  0.  0.  0.  0.  0.  0.]\n",
      " [ 0.  0.  0.  1.  0.  0.  0.  1. -4.  1.  0.  0.  0.  1.  0.  0.  0.  0.\n",
      "   0.  0.  0.  0.  0.  0.  0.]\n",
      " [ 0.  0.  0.  0.  0.  0.  0.  0.  0.  1.  0.  0.  0.  0.  0.  0.  0.  0.\n",
      "   0.  0.  0.  0.  0.  0.  0.]\n",
      " [ 0.  0.  0.  0.  0.  0.  0.  0.  0.  0.  1.  0.  0.  0.  0.  0.  0.  0.\n",
      "   0.  0.  0.  0.  0.  0.  0.]\n",
      " [ 0.  0.  0.  0.  0.  0.  1.  0.  0.  0.  1. -4.  1.  0.  0.  0.  1.  0.\n",
      "   0.  0.  0.  0.  0.  0.  0.]\n",
      " [ 0.  0.  0.  0.  0.  0.  0.  1.  0.  0.  0.  1. -4.  1.  0.  0.  0.  1.\n",
      "   0.  0.  0.  0.  0.  0.  0.]\n",
      " [ 0.  0.  0.  0.  0.  0.  0.  0.  1.  0.  0.  0.  1. -4.  1.  0.  0.  0.\n",
      "   1.  0.  0.  0.  0.  0.  0.]\n",
      " [ 0.  0.  0.  0.  0.  0.  0.  0.  0.  0.  0.  0.  0.  0.  1.  0.  0.  0.\n",
      "   0.  0.  0.  0.  0.  0.  0.]\n",
      " [ 0.  0.  0.  0.  0.  0.  0.  0.  0.  0.  0.  0.  0.  0.  0.  1.  0.  0.\n",
      "   0.  0.  0.  0.  0.  0.  0.]\n",
      " [ 0.  0.  0.  0.  0.  0.  0.  0.  0.  0.  0.  1.  0.  0.  0.  1. -4.  1.\n",
      "   0.  0.  0.  1.  0.  0.  0.]\n",
      " [ 0.  0.  0.  0.  0.  0.  0.  0.  0.  0.  0.  0.  1.  0.  0.  0.  1. -4.\n",
      "   1.  0.  0.  0.  1.  0.  0.]\n",
      " [ 0.  0.  0.  0.  0.  0.  0.  0.  0.  0.  0.  0.  0.  1.  0.  0.  0.  1.\n",
      "  -4.  1.  0.  0.  0.  1.  0.]\n",
      " [ 0.  0.  0.  0.  0.  0.  0.  0.  0.  0.  0.  0.  0.  0.  0.  0.  0.  0.\n",
      "   0.  1.  0.  0.  0.  0.  0.]\n",
      " [ 0.  0.  0.  0.  0.  0.  0.  0.  0.  0.  0.  0.  0.  0.  0.  0.  0.  0.\n",
      "   0.  0.  1.  0.  0.  0.  0.]\n",
      " [ 0.  0.  0.  0.  0.  0.  0.  0.  0.  0.  0.  0.  0.  0.  0.  0.  0.  0.\n",
      "   0.  0.  0.  1.  0.  0.  0.]\n",
      " [ 0.  0.  0.  0.  0.  0.  0.  0.  0.  0.  0.  0.  0.  0.  0.  0.  0.  0.\n",
      "   0.  0.  0.  0.  1.  0.  0.]\n",
      " [ 0.  0.  0.  0.  0.  0.  0.  0.  0.  0.  0.  0.  0.  0.  0.  0.  0.  0.\n",
      "   0.  0.  0.  0.  0.  1.  0.]\n",
      " [ 0.  0.  0.  0.  0.  0.  0.  0.  0.  0.  0.  0.  0.  0.  0.  0.  0.  0.\n",
      "   0.  0.  0.  0.  0.  0.  1.]]\n",
      "[187.5 300.  300.  300.  200.   75.    0.    0.    0.  100.   75.    0.\n",
      "   0.    0.  100.   75.    0.    0.    0.  100.   62.5  50.   50.   50.\n",
      "  75. ]\n"
     ]
    }
   ],
   "source": [
    "ni = 5\n",
    "nj = 5\n",
    "T_Left = 75\n",
    "T_Right = 100\n",
    "T_Top = 50\n",
    "T_Bottom = 300\n",
    "\n",
    "NI = ni*nj\n",
    "NJ = ni*nj\n",
    "\n",
    "K = np.zeros((NI,NJ))\n",
    "F = np.zeros((NJ))\n",
    "\n",
    "for i in range(0,ni):  \n",
    "    for j in range(0,nj):\n",
    "        I = ij_to_I(i,j)\n",
    "        if i==0 or i==ni-1 or j==0 or j==nj-1:\n",
    "            K[I,I] = 1\n",
    "            if i==0:\n",
    "                F[I] = T_Left\n",
    "                if j==0:\n",
    "                    F[I] = (T_Left + T_Bottom)/2\n",
    "                elif j==nj-1:\n",
    "                    F[I] = (T_Left + T_Top)/2\n",
    "            elif i==ni-1:\n",
    "                F[I] = T_Right\n",
    "                if j==0:\n",
    "                    F[I] = (T_Right + T_Bottom)/2\n",
    "                elif j==nj-1:\n",
    "                    F[I] = (T_Right + T_Top)/2\n",
    "            elif j==0:\n",
    "                F[I] = T_Bottom\n",
    "            elif j==nj-1:\n",
    "                F[I] = T_Top\n",
    "        \n",
    "        else:\n",
    "            K[I,I] = -4\n",
    "            K[I,ij_to_I(i-1,j)] = 1\n",
    "            K[I,ij_to_I(i+1,j)] = 1\n",
    "            K[I,ij_to_I(i,j-1)] = 1\n",
    "            K[I,ij_to_I(i,j+1)] = 1\n",
    "            F[I] = 0\n",
    "\n",
    "print(K)\n",
    "print(F)\n"
   ]
  },
  {
   "cell_type": "code",
   "execution_count": 31,
   "metadata": {},
   "outputs": [
    {
     "name": "stdout",
     "output_type": "stream",
     "text": [
      "[187.5        300.         300.         300.         200.\n",
      "  75.         171.42857143 195.75892857 180.35714286 100.\n",
      "  75.         114.95535714 131.25       125.66964286 100.\n",
      "  75.          82.14285714  88.61607143  91.07142857 100.\n",
      "  62.5         50.          50.          50.          75.        ]\n"
     ]
    }
   ],
   "source": [
    "T = np.linalg.solve(K, F)\n",
    "print(T)"
   ]
  },
  {
   "cell_type": "code",
   "execution_count": 32,
   "metadata": {},
   "outputs": [
    {
     "name": "stdout",
     "output_type": "stream",
     "text": [
      "[[187.5        300.         300.         300.         200.        ]\n",
      " [ 75.         171.42857143 195.75892857 180.35714286 100.        ]\n",
      " [ 75.         114.95535714 131.25       125.66964286 100.        ]\n",
      " [ 75.          82.14285714  88.61607143  91.07142857 100.        ]\n",
      " [ 62.5         50.          50.          50.          75.        ]]\n"
     ]
    },
    {
     "data": {
      "image/png": "[encoded data removed]",
      "text/plain": [
       "<Figure size 640x480 with 2 Axes>"
      ]
     },
     "metadata": {},
     "output_type": "display_data"
    }
   ],
   "source": [
    "T_grid = T.reshape((ni, nj))\n",
    "print(T_grid)\n",
    "\n",
    "plt.imshow(T_grid, cmap='hot', interpolation='nearest')\n",
    "plt.colorbar(label='Temperature')\n",
    "plt.title('Temperature Distribution')\n",
    "plt.xlabel('X-axis')\n",
    "plt.ylabel('Y-axis')\n",
    "plt.show()"
   ]
  },
  {
   "cell_type": "markdown",
   "metadata": {},
   "source": [
    "<center>\n",
    "<hr>\n",
    "<font size=\"20\" color='Blue' >Explicit Method</font>\n",
    "<hr>\n",
    "</center>"
   ]
  },
  {
   "cell_type": "code",
   "execution_count": 33,
   "metadata": {},
   "outputs": [
    {
     "name": "stdout",
     "output_type": "stream",
     "text": [
      "[187.5        300.         300.         300.         200.\n",
      "  75.         171.42857143 195.75892857 180.35714286 100.\n",
      "  75.         114.95535714 131.25       125.66964286 100.\n",
      "  75.          82.14285714  88.61607143  91.07142857 100.\n",
      "  62.5         50.          50.          50.          75.        ]\n"
     ]
    }
   ],
   "source": [
    "def gauss_seidel(K, F, tol=1e-10, max_iterations=1000):\n",
    "    T = np.zeros_like(F)\n",
    "    for iteration in range(max_iterations):\n",
    "        T_new = np.copy(T)\n",
    "        for i in range(K.shape[0]):\n",
    "            sum1 = np.dot(K[i, :i], T_new[:i])\n",
    "            sum2 = np.dot(K[i, i+1:], T[i+1:])\n",
    "            T_new[i] = (F[i] - sum1 - sum2) / K[i, i]\n",
    "        if np.linalg.norm(T_new - T, ord=np.inf) < tol:\n",
    "            break\n",
    "        T = T_new\n",
    "    return T\n",
    "\n",
    "T_iterative = gauss_seidel(K, F)\n",
    "print(T_iterative)"
   ]
  },
  {
   "cell_type": "code",
   "execution_count": 34,
   "metadata": {},
   "outputs": [
    {
     "name": "stdout",
     "output_type": "stream",
     "text": [
      "[[187.5        300.         300.         300.         200.        ]\n",
      " [ 75.         171.42857143 195.75892857 180.35714286 100.        ]\n",
      " [ 75.         114.95535714 131.25       125.66964286 100.        ]\n",
      " [ 75.          82.14285714  88.61607143  91.07142857 100.        ]\n",
      " [ 62.5         50.          50.          50.          75.        ]]\n"
     ]
    },
    {
     "data": {
      "image/png": "[encoded data removed]",
      "text/plain": [
       "<Figure size 640x480 with 2 Axes>"
      ]
     },
     "metadata": {},
     "output_type": "display_data"
    }
   ],
   "source": [
    "T_grid_iterative = T_iterative.reshape((ni, nj))\n",
    "print(T_grid_iterative)\n",
    "\n",
    "plt.imshow(T_grid_iterative, cmap='hot', interpolation='nearest')\n",
    "plt.colorbar(label='Temperature')\n",
    "plt.title('Temperature Distribution')\n",
    "plt.xlabel('X-axis')\n",
    "plt.ylabel('Y-axis')\n",
    "plt.show()"
   ]
  }
 ],
 "metadata": {
  "kernelspec": {
   "display_name": "Python 3",
   "language": "python",
   "name": "python3"
  },
  "language_info": {
   "codemirror_mode": {
    "name": "ipython",
    "version": 3
   },
   "file_extension": ".py",
   "mimetype": "text/x-python",
   "name": "python",
   "nbconvert_exporter": "python",
   "pygments_lexer": "ipython3",
   "version": "3.13.2"
  }
 },
 "nbformat": 4,
 "nbformat_minor": 2
}
