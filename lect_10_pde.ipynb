{
 "cells": [
  {
   "cell_type": "markdown",
   "metadata": {},
   "source": [
    "<center>\n",
    "<hr>\n",
    "<hr>\n",
    "<font style=\"font-size:5.4em ; color:black'\" > \n",
    "<span style=\"background : yellow\">\n",
    "#10 Partial Differential Equation\n",
    "</span>\n",
    "</font>\n",
    "<hr>\n",
    "<hr>\n",
    "</center>\n"
   ]
  },
  {
   "cell_type": "code",
   "execution_count": null,
   "metadata": {
    "vscode": {
     "languageId": "plaintext"
    }
   },
   "outputs": [],
   "source": []
  }
 ],
 "metadata": {
  "language_info": {
   "name": "python"
  }
 },
 "nbformat": 4,
 "nbformat_minor": 2
}
