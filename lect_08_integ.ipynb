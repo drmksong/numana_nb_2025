{
 "cells": [
  {
   "cell_type": "markdown",
   "metadata": {},
   "source": [
    "<center>\n",
    "<hr>\n",
    "<hr>\n",
    "<font style=\"font-size:5.4em ; color:black'\" > \n",
    "<span style=\"background : yellow\">\n",
    "#6-2 Integration \n",
    "</span>\n",
    "</font>\n",
    "<hr>\n",
    "<hr>\n",
    "</center>\n"
   ]
  },
  {
   "cell_type": "code",
   "execution_count": 2,
   "metadata": {},
   "outputs": [],
   "source": [
    "%matplotlib inline\n",
    "from IPython.display import display,Latex,Math,HTML\n",
    "import sympy as sym\n",
    "import math\n",
    "import numpy as np\n",
    "import scipy as sp\n",
    "import matplotlib.pyplot as plt\n",
    "import matplotlib.animation as animation"
   ]
  },
  {
   "cell_type": "markdown",
   "metadata": {},
   "source": [
    "<center>\n",
    "<hr>\n",
    "<font size=\"20\" color='Blue' >Trapezoidal Rule</font>\n",
    "<hr>\n",
    "</center>"
   ]
  },
  {
   "cell_type": "markdown",
   "metadata": {},
   "source": [
    "### Chap 21 Example 1 Trapezoidal\n",
    "\n",
    "#### Problem Statement : \n",
    ">  a) Use single segment Trapezoidal rule to find the distance covered.\n",
    "\n",
    ">\n",
    ">  b) Find the true error, Et for part (a).\n",
    "\n",
    ">  c) Find the absolute relative true error, |𝜖_𝑎 | for part (a).\n"
   ]
  },
  {
   "cell_type": "code",
   "execution_count": 3,
   "metadata": {},
   "outputs": [
    {
     "data": {
      "text/latex": [
       " \\begin{equation*} \\huge\n",
       "      x(t) = \\int_8^{30}( 2000\\ln[{140000\\over 140000-2100t}]-9.8t)dt\n",
       "      \\end{equation*} \n",
       "      "
      ],
      "text/plain": [
       "<IPython.core.display.Latex object>"
      ]
     },
     "execution_count": 3,
     "metadata": {},
     "output_type": "execute_result"
    }
   ],
   "source": [
    "Latex(\"\"\" \\\\begin{equation*} \\\\huge\n",
    "      x(t) = \\\\int_8^{30}( 2000\\\\ln[{140000\\\\over 140000-2100t}]-9.8t)dt\n",
    "      \\\\end{equation*} \n",
    "      \"\"\")"
   ]
  },
  {
   "cell_type": "code",
   "execution_count": 4,
   "metadata": {},
   "outputs": [],
   "source": [
    "def func(t):\n",
    "    return 2000*math.log(140000/(140000-2100*t))-9.8*t"
   ]
  },
  {
   "cell_type": "code",
   "execution_count": 5,
   "metadata": {},
   "outputs": [
    {
     "data": {
      "text/plain": [
       "<matplotlib.collections.PolyCollection at 0x1291cbee0>"
      ]
     },
     "execution_count": 5,
     "metadata": {},
     "output_type": "execute_result"
    },
    {
     "data": {
      "image/png": "[encoded data removed]",
      "text/plain": [
       "<Figure size 640x480 with 1 Axes>"
      ]
     },
     "metadata": {},
     "output_type": "display_data"
    }
   ],
   "source": [
    "xi = np.array([i*0.1 for i in range(0, 400)])\n",
    "yi = np.array([func(i) for i in xi])\n",
    "\n",
    "fig, ax = plt.subplots()\n",
    "line, = ax.plot(xi, yi, lw=2)\n",
    "line2 = ax.plot([0,40],[0,0], lw=2, color='black')        \n",
    "plt.fill_between(xi,yi,0, where = (30 > xi) & (xi > 8),color=\"lightblue\",  edgecolor=\"b\", linewidth=0.0)\n"
   ]
  },
  {
   "cell_type": "code",
   "execution_count": 6,
   "metadata": {},
   "outputs": [
    {
     "name": "stdout",
     "output_type": "stream",
     "text": [
      "f(8) = 177.27 m/s, f(30) = 901.67 m/s\n",
      "I = (30-8)[(177.27+901.67)/2] = 11868.3 m\n"
     ]
    }
   ],
   "source": [
    "\n",
    "\n",
    "a = 8\n",
    "b = 30\n",
    "\n",
    "print(f'f({a}) = {func(a):0.5} m/s, '\n",
    "        f'f({b}) = {func(b):0.5} m/s')\n",
    "I = (b-a)*(func(a)+func(b))/2\n",
    "print(f'I = ({b}-{a})[({func(a):0.5}+{func(b):0.5})/2] = {I:0.6} m')"
   ]
  },
  {
   "cell_type": "markdown",
   "metadata": {},
   "source": [
    ">  b) Find the true error, Et for part (a)."
   ]
  },
  {
   "cell_type": "code",
   "execution_count": 85,
   "metadata": {},
   "outputs": [
    {
     "name": "stdout",
     "output_type": "stream",
     "text": [
      "Integral: 11061.34 m\n",
      "error in quad integration is 1.22805e-10 m\n"
     ]
    }
   ],
   "source": [
    "from scipy.integrate import quad\n",
    "\n",
    "It, err = quad(func, 8, 30)\n",
    "print(f'Integral: {It:8.7} m')\n",
    "print(f'error in quad integration is {err:0.6} m')"
   ]
  },
  {
   "cell_type": "code",
   "execution_count": 8,
   "metadata": {},
   "outputs": [
    {
     "name": "stdout",
     "output_type": "stream",
     "text": [
      "Absolute True Error: -807.013 m\n"
     ]
    }
   ],
   "source": [
    "Et = ((It-I))\n",
    "print(f'Absolute True Error: {Et:0.6} m')"
   ]
  },
  {
   "cell_type": "markdown",
   "metadata": {},
   "source": [
    ">  c) Find the absolute relative true error, |𝜖_𝑎 | for part (a)."
   ]
  },
  {
   "cell_type": "code",
   "execution_count": 9,
   "metadata": {},
   "outputs": [
    {
     "name": "stdout",
     "output_type": "stream",
     "text": [
      "Relative True Error: 7.2958 %\n"
     ]
    }
   ],
   "source": [
    "error = abs((Et/It)*100)\n",
    "print(f'Relative True Error: {error:0.6} %')"
   ]
  },
  {
   "cell_type": "markdown",
   "metadata": {},
   "source": [
    "<center>\n",
    "<hr>\n",
    "<font size=\"20\" color='Blue' >Multi-segment Trapezoidal Rule</font>\n",
    "<hr>\n",
    "</center>"
   ]
  },
  {
   "cell_type": "code",
   "execution_count": 10,
   "metadata": {},
   "outputs": [
    {
     "name": "stdout",
     "output_type": "stream",
     "text": [
      "f(8) = 177.27 m/s, f(19) = 484.75 m/s\n",
      "I1 = (19-8)[(177.27+484.75)/2] = 3641.07 m\n",
      "f(19) = 484.75 m/s, f(30) = 901.67 m/s\n",
      "I2 = (30-19)[(484.75+901.67)/2] = 7625.31 m\n",
      "I1 + I2 = 11266.4 m\n"
     ]
    }
   ],
   "source": [
    "a = 8\n",
    "b = 19\n",
    "\n",
    "print(f'f({a}) = {func(a):0.5} m/s, '\n",
    "        f'f({b}) = {func(b):0.5} m/s')\n",
    "I1 = (b-a)*(func(a)+func(b))/2\n",
    "print(f'I1 = ({b}-{a})[({func(a):0.5}+{func(b):0.5})/2] = {I1:0.6} m')\n",
    "\n",
    "a = 19\n",
    "b = 30\n",
    "\n",
    "print(f'f({a}) = {func(a):0.5} m/s, '\n",
    "        f'f({b}) = {func(b):0.5} m/s')\n",
    "I2 = (b-a)*(func(a)+func(b))/2\n",
    "print(f'I2 = ({b}-{a})[({func(a):0.5}+{func(b):0.5})/2] = {I2:0.6} m')\n",
    "\n",
    "I = I1 + I2\n",
    "print(f'I1 + I2 = {I:0.6} m')\n"
   ]
  },
  {
   "cell_type": "code",
   "execution_count": 11,
   "metadata": {},
   "outputs": [
    {
     "name": "stdout",
     "output_type": "stream",
     "text": [
      "Absolute True Error: -205.039 m\n"
     ]
    }
   ],
   "source": [
    "Et = ((It-I))\n",
    "print(f'Absolute True Error: {Et:0.6} m')"
   ]
  },
  {
   "cell_type": "code",
   "execution_count": 12,
   "metadata": {},
   "outputs": [],
   "source": [
    "def integ(f,a,b):\n",
    "    return (b-a)*(f(a)+f(b))/2\n"
   ]
  },
  {
   "cell_type": "code",
   "execution_count": 13,
   "metadata": {},
   "outputs": [
    {
     "name": "stdout",
     "output_type": "stream",
     "text": [
      "Integral: 11266.4 m\n"
     ]
    }
   ],
   "source": [
    "a = 8\n",
    "b = 30\n",
    "\n",
    "n = 2\n",
    "I =0\n",
    "for i in range(n):\n",
    "    aa = a + (b-a)*i/(n)\n",
    "    bb = a + (b-a)*(i+1)/(n)\n",
    "    I += integ(func,aa,bb)\n",
    "\n",
    "print(f'Integral: {I:0.6} m')"
   ]
  },
  {
   "cell_type": "markdown",
   "metadata": {},
   "source": [
    "### Chap 21 Example 2 Multi-segment Trapezoidal\n",
    "\n",
    "#### Problem Statement : \n",
    ">  a) Use two segment Trapezoidal rule to find the distance covered.\n",
    ">\n",
    ">  b) Find the true error, Et for part (a).\n",
    ">\n",
    ">  c) Find the absolute relative true error, |𝜖_𝑎 | for part (a).\n"
   ]
  },
  {
   "cell_type": "code",
   "execution_count": 14,
   "metadata": {},
   "outputs": [],
   "source": [
    "def mtrapezoidal(f,a,b,n):\n",
    "    h = (b-a)/n\n",
    "    I = 0\n",
    "    for i in range(n):\n",
    "        I += f(a + h*i) + f(a + h*(i+1))\n",
    "    return h*I/2"
   ]
  },
  {
   "cell_type": "code",
   "execution_count": 15,
   "metadata": {},
   "outputs": [
    {
     "name": "stdout",
     "output_type": "stream",
     "text": [
      "Integral: 11266.4 m\n"
     ]
    }
   ],
   "source": [
    "I = mtrapezoidal(func,8,30,2)\n",
    "print(f'Integral: {I:0.6} m')"
   ]
  },
  {
   "cell_type": "markdown",
   "metadata": {},
   "source": [
    ">  b) Find the true error, Et for part (a)"
   ]
  },
  {
   "cell_type": "code",
   "execution_count": 16,
   "metadata": {},
   "outputs": [
    {
     "name": "stdout",
     "output_type": "stream",
     "text": [
      "Absolute True Error: -205.039 m\n"
     ]
    }
   ],
   "source": [
    "Et = ((It-I))\n",
    "print(f'Absolute True Error: {Et:0.6} m')"
   ]
  },
  {
   "cell_type": "markdown",
   "metadata": {},
   "source": [
    ">  c) Find the absolute relative true error, |𝜖_𝑎 | for part (a)."
   ]
  },
  {
   "cell_type": "code",
   "execution_count": 17,
   "metadata": {},
   "outputs": [
    {
     "name": "stdout",
     "output_type": "stream",
     "text": [
      "Relative True Error: 1.85365 %\n"
     ]
    }
   ],
   "source": [
    "error = abs((Et/It)*100)\n",
    "print(f'Relative True Error: {error:0.6} %')"
   ]
  },
  {
   "cell_type": "code",
   "execution_count": 18,
   "metadata": {},
   "outputs": [],
   "source": [
    "I = [mtrapezoidal(func,8,30,i) for i in range(1,9)]"
   ]
  },
  {
   "cell_type": "code",
   "execution_count": 19,
   "metadata": {},
   "outputs": [
    {
     "data": {
      "image/png": "[encoded data removed]",
      "text/plain": [
       "<Figure size 640x480 with 1 Axes>"
      ]
     },
     "metadata": {},
     "output_type": "display_data"
    }
   ],
   "source": [
    "xi = np.array([i for i in range(1, 9)])\n",
    "yi = np.array([i for i in I])\n",
    "\n",
    "fig, ax = plt.subplots()\n",
    "line, = ax.plot(xi, yi, lw=2)\n",
    "line2 = ax.plot([1,8],[11061,11061], lw=2, color='red')        \n",
    "# plt.fill_between(xi,yi,0, where = (30 > xi) & (xi > 8),color=\"lightblue\",  edgecolor=\"b\", linewidth=0.0)\n"
   ]
  },
  {
   "cell_type": "markdown",
   "metadata": {},
   "source": [
    "### Chap 21 Example 3 Multi-segment Trapezoidal\n",
    "\n",
    "#### Problem Statement : \n",
    ">  a) Use two segment Trapezoidal rule to find the distance covered.\n",
    ">\n",
    ">  b) Find the true error, Et for part (a).\n",
    ">\n",
    ">  c) Find the absolute relative true error, |𝜖_𝑎 | for part (a).\n"
   ]
  },
  {
   "cell_type": "code",
   "execution_count": 20,
   "metadata": {},
   "outputs": [
    {
     "data": {
      "text/latex": [
       " \\begin{equation*} \\huge\n",
       "      f(x) = { 300 x \\over 1+e^{x}},~ 0<x<10\n",
       "      \\end{equation*} \n",
       "      "
      ],
      "text/plain": [
       "<IPython.core.display.Latex object>"
      ]
     },
     "execution_count": 20,
     "metadata": {},
     "output_type": "execute_result"
    }
   ],
   "source": [
    "Latex(\"\"\" \\\\begin{equation*} \\\\huge\n",
    "      f(x) = { 300 x \\\\over 1+e^{x}},~ 0<x<10\n",
    "      \\\\end{equation*} \n",
    "      \"\"\")"
   ]
  },
  {
   "cell_type": "code",
   "execution_count": 21,
   "metadata": {},
   "outputs": [],
   "source": [
    "def func(x):\n",
    "    return 300*x/(1+math.exp(x))"
   ]
  },
  {
   "cell_type": "code",
   "execution_count": 22,
   "metadata": {},
   "outputs": [
    {
     "data": {
      "text/plain": [
       "<matplotlib.collections.PolyCollection at 0x138678d60>"
      ]
     },
     "execution_count": 22,
     "metadata": {},
     "output_type": "execute_result"
    },
    {
     "data": {
      "image/png": "[encoded data removed]",
      "text/plain": [
       "<Figure size 640x480 with 1 Axes>"
      ]
     },
     "metadata": {},
     "output_type": "display_data"
    }
   ],
   "source": [
    "xi = np.array([i*0.1 for i in range(0, 100)])\n",
    "yi = np.array([func(i) for i in xi])\n",
    "\n",
    "fig, ax = plt.subplots()\n",
    "line, = ax.plot(xi, yi, lw=2)\n",
    "line2 = ax.plot([0,10],[0,0], lw=2, color='black')        \n",
    "plt.fill_between(xi,yi,0, where = (10 > xi) & (xi > 0),color=\"lightblue\",  edgecolor=\"b\", linewidth=0.0)\n"
   ]
  },
  {
   "cell_type": "code",
   "execution_count": 23,
   "metadata": {},
   "outputs": [
    {
     "name": "stdout",
     "output_type": "stream",
     "text": [
      "Approximate Integral: 50.5369 m\n"
     ]
    }
   ],
   "source": [
    "I = mtrapezoidal(func,0,10,2)\n",
    "print(f'Approximate Integral: {I:0.6} m')"
   ]
  },
  {
   "cell_type": "code",
   "execution_count": 24,
   "metadata": {},
   "outputs": [
    {
     "name": "stdout",
     "output_type": "stream",
     "text": [
      "Actual Integral: 246.59 m\n"
     ]
    }
   ],
   "source": [
    "It, err = quad(func, 0, 10)\n",
    "print(f'Actual Integral: {It:0.6} m')  "
   ]
  },
  {
   "cell_type": "markdown",
   "metadata": {},
   "source": [
    ">  b) Find the true error, Et for part (a).\n",
    "\n"
   ]
  },
  {
   "cell_type": "code",
   "execution_count": 25,
   "metadata": {},
   "outputs": [
    {
     "name": "stdout",
     "output_type": "stream",
     "text": [
      "Absolute True Error: 196.053 m\n"
     ]
    }
   ],
   "source": [
    "Et = ((It-I))\n",
    "print(f'Absolute True Error: {Et:0.6} m')"
   ]
  },
  {
   "cell_type": "markdown",
   "metadata": {},
   "source": [
    ">  c) Find the absolute relative true error, |𝜖_𝑎 | for part (a).\n"
   ]
  },
  {
   "cell_type": "code",
   "execution_count": 26,
   "metadata": {},
   "outputs": [
    {
     "name": "stdout",
     "output_type": "stream",
     "text": [
      "Relative True Error: 79.5057 %\n"
     ]
    }
   ],
   "source": [
    "error = abs((Et/It)*100)\n",
    "print(f'Relative True Error: {error:0.6} %')"
   ]
  },
  {
   "cell_type": "code",
   "execution_count": 27,
   "metadata": {},
   "outputs": [
    {
     "name": "stdout",
     "output_type": "stream",
     "text": [
      "Approximate Integral: 0.680968 m\n",
      "Approximate Integral: 50.5369 m\n",
      "Approximate Integral: 170.612 m\n",
      "Approximate Integral: 227.044 m\n",
      "Approximate Integral: 241.704 m\n",
      "Approximate Integral: 245.369 m\n",
      "Approximate Integral: 246.285 m\n"
     ]
    }
   ],
   "source": [
    "n = 2\n",
    "I = [mtrapezoidal(func,0,10,n**i) for i in range(7)]\n",
    "for i in range(7):\n",
    "    print(f'Approximate Integral: {I[i]:0.6} m')"
   ]
  },
  {
   "cell_type": "code",
   "execution_count": 28,
   "metadata": {},
   "outputs": [
    {
     "data": {
      "image/png": "[encoded data removed]",
      "text/plain": [
       "<Figure size 640x480 with 1 Axes>"
      ]
     },
     "metadata": {},
     "output_type": "display_data"
    }
   ],
   "source": [
    "xi = np.array([i for i in range(7)])\n",
    "yi = np.array([i for i in I])\n",
    "\n",
    "fig, ax = plt.subplots()\n",
    "line, = ax.plot(xi, yi, lw=2)\n",
    "line2 = ax.plot([1,8],[246.59,246.59], lw=2, color='red')        \n",
    "# plt.fill_between(xi,yi,0, where = (30 > xi) & (xi > 8),color=\"lightblue\",  edgecolor=\"b\", linewidth=0.0)\n"
   ]
  },
  {
   "cell_type": "markdown",
   "metadata": {},
   "source": [
    "<center>\n",
    "<hr>\n",
    "<font style=\"font-size:3.4em ; color:Blue ; background-color : Blue'\" >Simpson's Rule</font>\n",
    "<hr>\n",
    "</center>"
   ]
  },
  {
   "cell_type": "markdown",
   "metadata": {},
   "source": [
    "### Chap 21 Example 1 Simpson's 1/3 Rule\n",
    "\n",
    "#### Problem Statement : \n",
    ">  a) Use Simpson's 1/3 rule to find the distance covered.\n",
    ">\n",
    ">  b) Find the true error, Et for part (a).\n",
    ">\n",
    ">  c) Find the absolute relative true error, |𝜖_𝑎 | for part (a).\n"
   ]
  },
  {
   "cell_type": "code",
   "execution_count": 29,
   "metadata": {},
   "outputs": [
    {
     "data": {
      "text/latex": [
       " \\begin{equation*} \\huge\n",
       "      x(t) = \\int_8^{30}( 2000\\ln[{140000\\over 140000-2100t}]-9.8t)dt\n",
       "      \\end{equation*} \n",
       "      "
      ],
      "text/plain": [
       "<IPython.core.display.Latex object>"
      ]
     },
     "execution_count": 29,
     "metadata": {},
     "output_type": "execute_result"
    }
   ],
   "source": [
    "Latex(\"\"\" \\\\begin{equation*} \\\\huge\n",
    "      x(t) = \\\\int_8^{30}( 2000\\\\ln[{140000\\\\over 140000-2100t}]-9.8t)dt\n",
    "      \\\\end{equation*} \n",
    "      \"\"\")"
   ]
  },
  {
   "cell_type": "code",
   "execution_count": 30,
   "metadata": {},
   "outputs": [],
   "source": [
    "def func(t):\n",
    "    return 2000*math.log(140000/(140000-2100*t))-9.8*t"
   ]
  },
  {
   "cell_type": "code",
   "execution_count": 31,
   "metadata": {},
   "outputs": [
    {
     "name": "stdout",
     "output_type": "stream",
     "text": [
      "Approximate Integral: 11065.7 m\n"
     ]
    }
   ],
   "source": [
    "a = 8\n",
    "b = 30\n",
    "x = (b-a)/6*(func(a)+4*func(a/2+b/2)+func(b))\n",
    "print(f'Approximate Integral: {x:0.6} m')"
   ]
  },
  {
   "cell_type": "markdown",
   "metadata": {},
   "source": [
    ">  b) Find the true error, Et for part (a).\n"
   ]
  },
  {
   "cell_type": "code",
   "execution_count": 32,
   "metadata": {},
   "outputs": [
    {
     "name": "stdout",
     "output_type": "stream",
     "text": [
      "Actual Integral: 11061.3 m\n"
     ]
    }
   ],
   "source": [
    "xt, err = quad(func, 8, 30) \n",
    "print(f'Actual Integral: {xt:0.6} m')"
   ]
  },
  {
   "cell_type": "code",
   "execution_count": 33,
   "metadata": {},
   "outputs": [
    {
     "name": "stdout",
     "output_type": "stream",
     "text": [
      "Absolute True Error: -4.38079 m\n"
     ]
    }
   ],
   "source": [
    "Et = ((xt-x))\n",
    "print(f'Absolute True Error: {Et:0.6} m')"
   ]
  },
  {
   "cell_type": "markdown",
   "metadata": {},
   "source": [
    ">  c) Find the absolute relative true error, |𝜖_𝑎 | for part (a).\n"
   ]
  },
  {
   "cell_type": "code",
   "execution_count": 34,
   "metadata": {},
   "outputs": [
    {
     "name": "stdout",
     "output_type": "stream",
     "text": [
      "Relative True Error: 0.0396046 %\n"
     ]
    }
   ],
   "source": [
    "error = abs((Et/xt)*100)\n",
    "print(f'Relative True Error: {error:0.6} %')"
   ]
  },
  {
   "cell_type": "markdown",
   "metadata": {},
   "source": [
    "### Chap 21 Example 2 Simpson's 1/3 Rule 4 segments\n",
    "\n",
    "#### Problem Statement : \n",
    ">  a) Use four segment Simpson's 1/3 rule to find the distance covered.\n",
    ">\n",
    ">  b) Find the true error, Et for part (a).\n",
    ">\n",
    ">  c) Find the absolute relative true error, |𝜖_𝑎 | for part (a).\n"
   ]
  },
  {
   "cell_type": "code",
   "execution_count": 35,
   "metadata": {},
   "outputs": [
    {
     "data": {
      "text/latex": [
       " \\begin{equation*} \\huge\n",
       "      x(t) = \\int_8^{30}( 2000\\ln[{140000\\over 140000-2100t}]-9.8t)dt\n",
       "      \\end{equation*} \n",
       "      "
      ],
      "text/plain": [
       "<IPython.core.display.Latex object>"
      ]
     },
     "execution_count": 35,
     "metadata": {},
     "output_type": "execute_result"
    }
   ],
   "source": [
    "Latex(\"\"\" \\\\begin{equation*} \\\\huge\n",
    "      x(t) = \\\\int_8^{30}( 2000\\\\ln[{140000\\\\over 140000-2100t}]-9.8t)dt\n",
    "      \\\\end{equation*å} \n",
    "      \"\"\")"
   ]
  },
  {
   "cell_type": "code",
   "execution_count": 36,
   "metadata": {},
   "outputs": [],
   "source": [
    "def func(t):\n",
    "    return 2000*math.log(140000/(140000-2100*t))-9.8*t"
   ]
  },
  {
   "cell_type": "code",
   "execution_count": 37,
   "metadata": {},
   "outputs": [],
   "source": [
    "def msimpson(f,a,b,n,output=False):\n",
    "    h = (b-a)/n\n",
    "    if output:\n",
    "        print(f'h = {h}')\n",
    "    I = f(a) + f(b)\n",
    "    if output:\n",
    "        print(f'f(a) = {f(a):0.6}')\n",
    "    for i in range(1,n,2):\n",
    "        I +=  4*f(a + h*i)\n",
    "        if output:\n",
    "            print(f'4*f(a + {h}*{i}) = {4}*{f(a + h*i):0.6}= {4*f(a + h*i):0.6}')\n",
    "    for i in range(2,n,2):\n",
    "        I += 2*f(a + h*i)\n",
    "        if output:\n",
    "            print(f'2*f(a + {h}*{i}) = {2}*{f(a + h*i):0.6}= {2*f(a + h*i):0.6}')\n",
    "    if output:        \n",
    "        print(f'f(b) = {f(b):0.6}')        \n",
    "    return h*I/3"
   ]
  },
  {
   "cell_type": "code",
   "execution_count": 38,
   "metadata": {},
   "outputs": [
    {
     "name": "stdout",
     "output_type": "stream",
     "text": [
      "h = 5.5\n",
      "f(a) = 177.267\n",
      "4*f(a + 5.5*1) = 4*320.247= 1280.99\n",
      "4*f(a + 5.5*3) = 4*676.05= 2704.2\n",
      "2*f(a + 5.5*2) = 2*484.745= 969.491\n",
      "f(b) = 901.674\n",
      "Approximate Integral: 11061.6 m\n"
     ]
    }
   ],
   "source": [
    "a = 8\n",
    "b = 30\n",
    "n = 4\n",
    "x = msimpson(func,a,b,n,True)\n",
    "print(f'Approximate Integral: {x:0.6} m')"
   ]
  },
  {
   "cell_type": "markdown",
   "metadata": {},
   "source": [
    ">  b) Find the true error, Et for part (a).\n"
   ]
  },
  {
   "cell_type": "code",
   "execution_count": 39,
   "metadata": {},
   "outputs": [
    {
     "name": "stdout",
     "output_type": "stream",
     "text": [
      "Absolute True Error: -0.300602 m\n"
     ]
    }
   ],
   "source": [
    "Et = ((xt-x))\n",
    "print(f'Absolute True Error: {Et:0.6} m')"
   ]
  },
  {
   "cell_type": "markdown",
   "metadata": {},
   "source": [
    ">  c) Find the absolute relative true error, |𝜖_𝑎 | for part (a).\n"
   ]
  },
  {
   "cell_type": "code",
   "execution_count": 40,
   "metadata": {},
   "outputs": [
    {
     "name": "stdout",
     "output_type": "stream",
     "text": [
      "Relative True Error: 0.0027176 %\n"
     ]
    }
   ],
   "source": [
    "error = abs((Et/xt)*100)\n",
    "print(f'Relative True Error: {error:0.6} %')"
   ]
  },
  {
   "cell_type": "code",
   "execution_count": 41,
   "metadata": {},
   "outputs": [
    {
     "name": "stdout",
     "output_type": "stream",
     "text": [
      "n = 2: Approximate Integral: 11065.72 m\n",
      "n = 4: Approximate Integral: 11061.64 m\n",
      "n = 6: Approximate Integral: 11061.4 m\n",
      "n = 8: Approximate Integral: 11061.35 m\n",
      "n = 10: Approximate Integral: 11061.34 m\n"
     ]
    }
   ],
   "source": [
    "\n",
    "I = [msimpson(func,8,30,i) for i in range(2,11,2)]\n",
    "for n,i in enumerate(I):\n",
    "    print(f'n = {2*(n+1)}: Approximate Integral: {i:0.7} m')"
   ]
  },
  {
   "cell_type": "code",
   "execution_count": 50,
   "metadata": {},
   "outputs": [
    {
     "data": {
      "text/plain": [
       "(11060.0, 11070.0)"
      ]
     },
     "execution_count": 50,
     "metadata": {},
     "output_type": "execute_result"
    },
    {
     "data": {
      "image/png": "[encoded data removed]",
      "text/plain": [
       "<Figure size 640x480 with 1 Axes>"
      ]
     },
     "metadata": {},
     "output_type": "display_data"
    }
   ],
   "source": [
    "xi = np.array([i for i in range(2, len(I)*2+1, 2)])\n",
    "yi = np.array([i for i in I])\n",
    "\n",
    "fig, ax = plt.subplots()\n",
    "line, = ax.plot(xi, yi, lw=2)\n",
    "line2 = ax.plot([2,10],[11061,11061], lw=2, color='red')    \n",
    "ax.set_ylim(11060, 11070)    \n",
    "# plt.fill_between(xi,yi,0, where = (30 > xi) & (xi > 8),color=\"lightblue\",  edgecolor=\"b\", linewidth=0.0)\n"
   ]
  },
  {
   "cell_type": "markdown",
   "metadata": {},
   "source": [
    "<center>\n",
    "<hr>\n",
    "<font style=\"font-size:3.4em ; color:blue'\" > \n",
    "<span style=\"color:blue ;background : lightgreen\">\n",
    "Romberg Rule of Integration \n",
    "</span>\n",
    "</font>\n",
    "<hr>\n",
    "</center>\n"
   ]
  },
  {
   "cell_type": "markdown",
   "metadata": {},
   "source": [
    "### Chap 21 Example 1 Richardson Rule 2 & 4 segments\n",
    "\n",
    "#### Problem Statement : \n",
    ">  a) Use Richardson’s rule to find the distance covered. \n",
    "   Use the 2-segment and 4-segment Trapezoidal  \n",
    "   rule results given in Table 1.\n",
    ">\n",
    ">  b) Find the true error, Et for part (a).\n",
    ">\n",
    ">  c) Find the absolute relative true error, |𝜖_𝑎 | for part (a).\n"
   ]
  },
  {
   "cell_type": "code",
   "execution_count": 53,
   "metadata": {},
   "outputs": [
    {
     "data": {
      "text/latex": [
       " \\begin{equation*} \\huge\n",
       "      x(t) = \\int_8^{30}( 2000\\ln[{140000\\over 140000-2100t}]-9.8t)dt\n",
       "      \\end{equation*} \n",
       "      "
      ],
      "text/plain": [
       "<IPython.core.display.Latex object>"
      ]
     },
     "execution_count": 53,
     "metadata": {},
     "output_type": "execute_result"
    }
   ],
   "source": [
    "Latex(\"\"\" \\\\begin{equation*} \\\\huge\n",
    "      x(t) = \\\\int_8^{30}( 2000\\\\ln[{140000\\\\over 140000-2100t}]-9.8t)dt\n",
    "      \\\\end{equation*} \n",
    "      \"\"\")"
   ]
  },
  {
   "cell_type": "code",
   "execution_count": 51,
   "metadata": {},
   "outputs": [],
   "source": [
    "def func(t):\n",
    "    return 2000*math.log(140000/(140000-2100*t))-9.8*t"
   ]
  },
  {
   "cell_type": "code",
   "execution_count": 56,
   "metadata": {},
   "outputs": [],
   "source": [
    "def richardson(f,a,b,n,output=False):\n",
    "    I = mtrapezoidal(f,a,b,n)\n",
    "    I2 = mtrapezoidal(f,a,b,2*n)\n",
    "    if output:\n",
    "        print(f'I = {I:0.6}, I2 = {I2:0.6}')\n",
    "        print(f'approx integ. = {I2 + (I2-I)/3:0.6}')\n",
    "    return I2 + (I2-I)/3"
   ]
  },
  {
   "cell_type": "code",
   "execution_count": 57,
   "metadata": {},
   "outputs": [
    {
     "name": "stdout",
     "output_type": "stream",
     "text": [
      "I = 11266.4, I2 = 11112.8\n",
      "approx integ. = 11061.6\n",
      "I = 11112.8, I2 = 11074.2\n",
      "approx integ. = 11061.4\n",
      "Approximate 2 seg Integral: 11061.6 m\n",
      "Approximate 4 seg Integral: 11061.4 m\n"
     ]
    }
   ],
   "source": [
    "integ2 = richardson(func,8,30,2,True)\n",
    "integ4 = richardson(func,8,30,4,True)\n",
    "print(f'Approximate 2 seg Integral: {integ2:0.6} m')\n",
    "print(f'Approximate 4 seg Integral: {integ4:0.6} m')"
   ]
  },
  {
   "cell_type": "markdown",
   "metadata": {},
   "source": [
    ">  b) Find the true error, Et for part (a).\n"
   ]
  },
  {
   "cell_type": "code",
   "execution_count": 66,
   "metadata": {},
   "outputs": [
    {
     "name": "stdout",
     "output_type": "stream",
     "text": [
      "Absolute True Error: 11061.3 - 11061.6=-0.300602 m\n"
     ]
    }
   ],
   "source": [
    "Et = ((xt-integ2))\n",
    "print(f'Absolute True Error: {xt:0.6} - {integ2:0.6}={Et:0.6} m')"
   ]
  },
  {
   "cell_type": "markdown",
   "metadata": {},
   "source": [
    ">  c) Find the absolute relative true error, |𝜖_𝑎 | for part (a).\n"
   ]
  },
  {
   "cell_type": "code",
   "execution_count": 67,
   "metadata": {},
   "outputs": [
    {
     "name": "stdout",
     "output_type": "stream",
     "text": [
      "Relative True Error: 0.0027176 %\n"
     ]
    }
   ],
   "source": [
    "error = abs((Et/xt)*100)\n",
    "print(f'Relative True Error: {error:0.6} %')"
   ]
  },
  {
   "cell_type": "code",
   "execution_count": 68,
   "metadata": {},
   "outputs": [
    {
     "name": "stdout",
     "output_type": "stream",
     "text": [
      "Relative True Error: 0.00904077 %\n"
     ]
    }
   ],
   "source": [
    "Et = round(xt)-round(integ2)\n",
    "error = abs((round(Et)/round(xt))*100)\n",
    "print(f'Relative True Error: {error:0.6} %')"
   ]
  },
  {
   "cell_type": "markdown",
   "metadata": {},
   "source": [
    "### Chap 21 Example 2 Richardson Rule 1, 2, 4, 8 segments\n",
    "\n",
    "#### Problem Statement : \n",
    ">  a) Use Romberg’s rule to find the distance covered. Use the 1, 2, 4, and 8-segment Trapezoidal rule results as given in the Table 1.\n",
    ">"
   ]
  },
  {
   "cell_type": "code",
   "execution_count": 82,
   "metadata": {},
   "outputs": [],
   "source": [
    "def romberg(f,a,b,n):\n",
    "    R = [[0 for j in range(n)] for i in range(n)]\n",
    "    for i in range(n):\n",
    "        R[i][0] = mtrapezoidal(f,a,b,2**i)\n",
    "    for j in range(1,n):\n",
    "        for i in range(j,n):\n",
    "            R[i][j] = (4**j*R[i][j-1]-R[i-1][j-1])/(4**j-1)\n",
    "    return R"
   ]
  },
  {
   "cell_type": "code",
   "execution_count": 83,
   "metadata": {},
   "outputs": [
    {
     "name": "stdout",
     "output_type": "stream",
     "text": [
      "n = 2: \n",
      "11868.35      0.0 \n",
      "11266.37 11065.72 \n",
      "n = 4: \n",
      "11868.35      0.0      0.0      0.0 \n",
      "11266.37 11065.72      0.0      0.0 \n",
      "11112.82 11061.64 11061.36      0.0 \n",
      "11074.22 11061.35 11061.34 11061.34 \n",
      "n = 6: \n",
      "11868.35      0.0      0.0      0.0      0.0      0.0 \n",
      "11266.37 11065.72      0.0      0.0      0.0      0.0 \n",
      "11112.82 11061.64 11061.36      0.0      0.0      0.0 \n",
      "11074.22 11061.35 11061.34 11061.34      0.0      0.0 \n",
      "11064.56 11061.34 11061.34 11061.34 11061.34      0.0 \n",
      "11062.14 11061.34 11061.34 11061.34 11061.34 11061.34 \n",
      "n = 8: \n",
      "11868.35      0.0      0.0      0.0      0.0      0.0      0.0      0.0 \n",
      "11266.37 11065.72      0.0      0.0      0.0      0.0      0.0      0.0 \n",
      "11112.82 11061.64 11061.36      0.0      0.0      0.0      0.0      0.0 \n",
      "11074.22 11061.35 11061.34 11061.34      0.0      0.0      0.0      0.0 \n",
      "11064.56 11061.34 11061.34 11061.34 11061.34      0.0      0.0      0.0 \n",
      "11062.14 11061.34 11061.34 11061.34 11061.34 11061.34      0.0      0.0 \n",
      "11061.54 11061.34 11061.34 11061.34 11061.34 11061.34 11061.34      0.0 \n",
      "11061.39 11061.34 11061.34 11061.34 11061.34 11061.34 11061.34 11061.34 \n"
     ]
    }
   ],
   "source": [
    "I = [romberg(func,8,30,i) for i in range(2,9,2)]\n",
    "for n,i in enumerate(I):\n",
    "    print(f'n = {2*(n+1)}: ')\n",
    "    for j in i:\n",
    "        for k in j:\n",
    "            print(f'{float(k):8.7}', end=' ')\n",
    "        print()\n"
   ]
  },
  {
   "cell_type": "markdown",
   "metadata": {},
   "source": [
    "<center>\n",
    "<hr>\n",
    "<font style=\"font-size:3.4em ; color:blue'\" > \n",
    "<span style=\"color:blue ;background : lightgreen\">\n",
    "Gauss Quad Rule of Integration \n",
    "</span>\n",
    "</font>\n",
    "<hr>\n",
    "</center>\n"
   ]
  },
  {
   "cell_type": "markdown",
   "metadata": {},
   "source": [
    "### Chap 22 Example 2 Gauss Quad Rule \n",
    "\n",
    "#### Problem Statement : \n",
    ">  a) Use two-point Gauss Quadrature Rule to approximate the distance covered by a rocket from t=8 to t=30\n",
    ">\n",
    ">  b) Find the true error, Et for part (a).\n",
    ">\n",
    ">  c) Find the absolute relative true error, |𝜖_𝑎 | for part (a).\n"
   ]
  },
  {
   "cell_type": "code",
   "execution_count": 86,
   "metadata": {},
   "outputs": [
    {
     "data": {
      "text/latex": [
       " \\begin{equation*} \\huge\n",
       "      x(t) = \\int_8^{30}( 2000\\ln[{140000\\over 140000-2100t}]-9.8t)dt\n",
       "      \\end{equation*} \n",
       "      "
      ],
      "text/plain": [
       "<IPython.core.display.Latex object>"
      ]
     },
     "execution_count": 86,
     "metadata": {},
     "output_type": "execute_result"
    }
   ],
   "source": [
    "Latex(\"\"\" \\\\begin{equation*} \\\\huge\n",
    "      x(t) = \\\\int_8^{30}( 2000\\\\ln[{140000\\\\over 140000-2100t}]-9.8t)dt\n",
    "      \\\\end{equation*} \n",
    "      \"\"\")"
   ]
  },
  {
   "cell_type": "code",
   "execution_count": 87,
   "metadata": {},
   "outputs": [],
   "source": [
    "def func(t):\n",
    "    return 2000*math.log(140000/(140000-2100*t))-9.8*t"
   ]
  },
  {
   "cell_type": "code",
   "execution_count": 94,
   "metadata": {},
   "outputs": [],
   "source": [
    "def gauss_quad(f,a,b,output=False):\n",
    "    x1 = (b-a)/2*(-1/math.sqrt(3))+(b+a)/2\n",
    "    x2 = (b-a)/2*(1/math.sqrt(3))+(b+a)/2\n",
    "    c1 = (b-a)/2\n",
    "    c2 = (b-a)/2\n",
    "    if output:\n",
    "        print(f'x1 = {x1:0.6}, x2 = {x2:0.6}')\n",
    "        print(f'c1 = {c1:0.6}, c2 = {c2:0.6}')\n",
    "    return c1*f(x1)+c2*f(x2)"
   ]
  },
  {
   "cell_type": "code",
   "execution_count": 96,
   "metadata": {},
   "outputs": [
    {
     "name": "stdout",
     "output_type": "stream",
     "text": [
      "x1 = 12.6491, x2 = 25.3509\n",
      "c1 = 11.0, c2 = 11.0\n",
      "2-point Gauss Quad Approximate Integral: 11058.4 m\n"
     ]
    }
   ],
   "source": [
    "integ = gauss_quad(func,8,30,True)\n",
    "print(f'2-point Gauss Quad Approximate Integral: {integ:0.6} m')"
   ]
  },
  {
   "cell_type": "code",
   "execution_count": 99,
   "metadata": {},
   "outputs": [],
   "source": [
    "def ngauss_quad(f,a,b,n):\n",
    "    x = [0 for i in range(n)]\n",
    "    c = [0 for i in range(n)]\n",
    "    if n == 2:\n",
    "        x[0] = -1/math.sqrt(3)\n",
    "        x[1] = 1/math.sqrt(3)\n",
    "        c[0] = 1\n",
    "        c[1] = 1\n",
    "    elif n == 3:\n",
    "        x[0] = -math.sqrt(3/5)\n",
    "        x[1] = 0\n",
    "        x[2] = math.sqrt(3/5)\n",
    "        c[0] = 5/9\n",
    "        c[1] = 8/9\n",
    "        c[2] = 5/9\n",
    "    elif n == 4:\n",
    "        x[0] = -0.861136\n",
    "        x[1] = -0.339981\n",
    "        x[2] = 0.339981\n",
    "        x[3] = 0.861136\n",
    "        c[0] = 0.347855\n",
    "        c[1] = 0.652145\n",
    "        c[2] = 0.652145\n",
    "        c[3] = 0.347855\n",
    "    else:\n",
    "        print('Error: n must be 2, 3, or 4')\n",
    "        return\n",
    "    I = 0\n",
    "    for i in range(n):\n",
    "        I += c[i]*f((b-a)/2*x[i]+(b+a)/2)\n",
    "    return (b-a)/2*I"
   ]
  },
  {
   "cell_type": "code",
   "execution_count": 101,
   "metadata": {},
   "outputs": [
    {
     "name": "stdout",
     "output_type": "stream",
     "text": [
      "2-point Gauss Quad Approximate Integral: 11058.44 m\n",
      "3-point Gauss Quad Approximate Integral: 11061.31 m\n",
      "4-point Gauss Quad Approximate Integral: 11061.34 m\n"
     ]
    }
   ],
   "source": [
    "I = [ngauss_quad(func,8,30,i) for i in range(2,5)]\n",
    "for i in range(3):\n",
    "    print(f'{i+2}-point Gauss Quad Approximate Integral: {I[i]:0.7} m')\n"
   ]
  },
  {
   "cell_type": "markdown",
   "metadata": {},
   "source": [
    ">  b) Find the true error, Et for part (a).\n",
    "\n",
    "\n"
   ]
  },
  {
   "cell_type": "code",
   "execution_count": 108,
   "metadata": {},
   "outputs": [
    {
     "name": "stdout",
     "output_type": "stream",
     "text": [
      "Absolute True Error: 2.89475m\n",
      "Absolute True Error: 0.0271403m\n",
      "Absolute True Error: 0.000417031m\n"
     ]
    }
   ],
   "source": [
    "Et = ((xt-np.array(I)))\n",
    "for e in Et:\n",
    "    print(f'Absolute True Error: {e:0.6}m')"
   ]
  },
  {
   "cell_type": "markdown",
   "metadata": {},
   "source": [
    ">  c) Find the absolute relative true error, |𝜖_𝑎 | for part (a).\n"
   ]
  },
  {
   "cell_type": "code",
   "execution_count": 109,
   "metadata": {},
   "outputs": [
    {
     "name": "stdout",
     "output_type": "stream",
     "text": [
      "Relative True Error: 0.02617 %\n",
      "Relative True Error: 0.000245362 %\n",
      "Relative True Error: 3.77017e-06 %\n"
     ]
    }
   ],
   "source": [
    "error = abs((Et/xt)*100)\n",
    "for e in error:\n",
    "    print(f'Relative True Error: {e:0.6} %')"
   ]
  },
  {
   "cell_type": "markdown",
   "metadata": {},
   "source": [
    "<center>\n",
    "<hr>\n",
    "<font size=\"20\" color='Blue' >The end...</font>\n",
    "<hr>\n",
    "</center>"
   ]
  }
 ],
 "metadata": {
  "kernelspec": {
   "display_name": "Python 3",
   "language": "python",
   "name": "python3"
  },
  "language_info": {
   "codemirror_mode": {
    "name": "ipython",
    "version": 3
   },
   "file_extension": ".py",
   "mimetype": "text/x-python",
   "name": "python",
   "nbconvert_exporter": "python",
   "pygments_lexer": "ipython3",
   "version": "3.10.12"
  }
 },
 "nbformat": 4,
 "nbformat_minor": 2
}
