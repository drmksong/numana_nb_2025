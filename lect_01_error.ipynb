{
 "cells": [
  {
   "cell_type": "markdown",
   "metadata": {},
   "source": []
  },
  {
   "cell_type": "markdown",
   "metadata": {},
   "source": [
    "\n",
    "<center>\n",
    "<hr>\n",
    "<hr>\n",
    "<font style=\"font-size:5.4em ; color:black'\" > \n",
    "<span style=\"background : yellow\">\n",
    "#1 Introduction\n",
    "</span>\n",
    "</font>\n",
    "<hr>\n",
    "<hr>\n",
    "</center>\n"
   ]
  },
  {
   "cell_type": "code",
   "execution_count": null,
   "metadata": {},
   "outputs": [],
   "source": [
    "from IPython.display import display,Latex,Math,HTML\n",
    "import sympy as sym\n",
    "import matplotlib.pyplot as plt"
   ]
  },
  {
   "cell_type": "code",
   "execution_count": null,
   "metadata": {},
   "outputs": [],
   "source": [
    "a = 1\n",
    "b = 2"
   ]
  },
  {
   "cell_type": "code",
   "execution_count": null,
   "metadata": {},
   "outputs": [],
   "source": [
    "Latex(f\"\"\"\\\\begin{{equation*}}\n",
    "      \\\\frac{{{a}}}{{{b}}}\n",
    "      \\\\end{{equation*}}\"\"\")\n",
    "\n",
    "# Latex(f\"$\\\\frac{{{a}}}{{{b}}}$\")\n",
    "# Latex(f\"\"\"\n",
    "#       \\\\begin{{equation*}}\n",
    "#       \\\\frac{{{a}}}{{{b}}}\n",
    "#       \\\\end{{equation*}}\n",
    "#       \"\"\")"
   ]
  },
  {
   "cell_type": "code",
   "execution_count": null,
   "metadata": {},
   "outputs": [],
   "source": [
    "%matplotlib inline\n",
    "import matplotlib.pyplot as plt\n",
    "import matplotlib.animation as animation\n",
    "\n",
    "# Acceleration due to gravity, m.s-2.\n",
    "g = 9.81\n",
    "# The maximum x-range of ball's trajectory to plot.\n",
    "XMAX = 5\n",
    "# The coefficient of restitution for bounces (-v_up/v_down).\n",
    "cor = 0.65\n",
    "# The time step for the animation.\n",
    "dt = 0.005\n",
    "\n",
    "# Initial position and velocity vectors.\n",
    "x0, y0 = 0, 4\n",
    "vx0, vy0 = 1, 0\n",
    "\n",
    "def get_pos(t=0):\n",
    "    \"\"\"A generator yielding the ball's position at time t.\"\"\"\n",
    "    x, y, vx, vy = x0, y0, vx0, vy0\n",
    "    while x < XMAX:\n",
    "        t += dt\n",
    "        x += vx0 * dt\n",
    "        y += vy * dt\n",
    "        vy -= g * dt\n",
    "        if y < 0:\n",
    "            # bounce!\n",
    "            y = 0\n",
    "            vy = -vy * cor \n",
    "        yield 2.5, y\n",
    "\n",
    "def init():\n",
    "    \"\"\"Initialize the animation figure.\"\"\"\n",
    "    ax.set_xlim(0, XMAX)\n",
    "    ax.set_ylim(0, y0)\n",
    "    ax.set_xlabel('$x$ /m')\n",
    "    ax.set_ylabel('$y$ /m')\n",
    "    line.set_data(xdata, ydata)\n",
    "    ball.set_center((x0, y0))\n",
    "    height_text.set_text(f'Height: {y0:.1f} m')\n",
    "    return line, ball, height_text\n",
    "\n",
    "def animate(pos):\n",
    "    \"\"\"For each frame, advance the animation to the new position, pos.\"\"\"\n",
    "    x, y = pos\n",
    "    xdata.append(x)\n",
    "    ydata.append(y)\n",
    "    line.set_data(xdata, ydata)\n",
    "    ball.set_center((x, y))\n",
    "    height_text.set_text(f'Height: {y:.1f} m')\n",
    "    return line, ball, height_text\n",
    "\n",
    "# Set up a new Figure, with equal aspect ratio so the ball appears round.\n",
    "fig, ax = plt.subplots()\n",
    "ax.set_aspect('equal')\n",
    "\n",
    "# These are the objects we need to keep track of.\n",
    "line, = ax.plot([], [], lw=2)\n",
    "ball = plt.Circle((x0, y0), 0.10)\n",
    "height_text = ax.text(XMAX*0.5, y0*0.8, f'Height: {y0:.1f} m')\n",
    "ax.add_patch(ball)\n",
    "xdata, ydata = [], []\n",
    "\n",
    "interval = 1000*dt\n",
    "ani = animation.FuncAnimation(fig, animate, get_pos, blit=True,interval=interval, repeat=False, init_func=init,cache_frame_data=False)\n",
    "HTML(ani.to_jshtml())\n",
    "\n",
    "# plt.show()"
   ]
  },
  {
   "cell_type": "markdown",
   "metadata": {},
   "source": [
    "<center>\n",
    "<hr>\n",
    "<font size=\"20\" color='Blue' >The end...</font>\n",
    "<hr>\n",
    "</center>"
   ]
  }
 ],
 "metadata": {
  "kernelspec": {
   "display_name": "Python 3 (ipykernel)",
   "language": "python",
   "name": "python3"
  },
  "language_info": {
   "codemirror_mode": {
    "name": "ipython",
    "version": 3
   },
   "file_extension": ".py",
   "mimetype": "text/x-python",
   "name": "python",
   "nbconvert_exporter": "python",
   "pygments_lexer": "ipython3",
   "version": "3.9.6"
  }
 },
 "nbformat": 4,
 "nbformat_minor": 4
}
