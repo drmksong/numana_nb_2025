{
 "cells": [
  {
   "cell_type": "markdown",
   "metadata": {},
   "source": [
    "<center>\n",
    "<hr>\n",
    "<hr>\n",
    "<font style=\"font-size:5.4em ; color:black'\" > \n",
    "<span style=\"background : yellow\">\n",
    "#7 Ordinary Differential Equation\n",
    "</span>\n",
    "</font>\n",
    "<hr>\n",
    "<hr>\n",
    "</center>\n"
   ]
  },
  {
   "cell_type": "code",
   "execution_count": 255,
   "metadata": {},
   "outputs": [],
   "source": [
    "\n",
    "%matplotlib inline\n",
    "from IPython.display import display,Latex,Math,HTML\n",
    "import sympy as sym\n",
    "import math\n",
    "import numpy as np\n",
    "import scipy as sp\n",
    "import math\n",
    "import matplotlib.pyplot as plt\n",
    "import matplotlib.animation as animation"
   ]
  },
  {
   "cell_type": "markdown",
   "metadata": {},
   "source": [
    "<center>\n",
    "<hr>\n",
    "<font size=\"20\" color='Blue' >Euler's Method</font>\n",
    "<hr>\n",
    "</center>"
   ]
  },
  {
   "cell_type": "code",
   "execution_count": 256,
   "metadata": {},
   "outputs": [
    {
     "data": {
      "text/latex": [
       " \\begin{equation*} \\huge\n",
       "      y_{i+1} = y_i + f(x_i,y_i) \\cdot h\n",
       "      \\end{equation*} \n",
       "      "
      ],
      "text/plain": [
       "<IPython.core.display.Latex object>"
      ]
     },
     "execution_count": 256,
     "metadata": {},
     "output_type": "execute_result"
    }
   ],
   "source": [
    "Latex(\"\"\" \\\\begin{equation*} \\\\huge\n",
    "      y_{i+1} = y_i + f(x_i,y_i) \\\\cdot h\n",
    "      \\\\end{equation*} \n",
    "      \"\"\")"
   ]
  },
  {
   "cell_type": "markdown",
   "metadata": {},
   "source": [
    "\n",
    "## Example 25.1 Euler's Method\n",
    "\n",
    "### Program Statement\n",
    "\n",
    "* Use Euler’s method to numerically integrate Eq. (PT7.13):"
   ]
  },
  {
   "cell_type": "code",
   "execution_count": 257,
   "metadata": {},
   "outputs": [
    {
     "data": {
      "text/latex": [
       " \\begin{equation*} \\huge\n",
       "      {dy \\over dx} = -2 x^3 + 12 x^2 - 20 x + 8.5\n",
       "      \\end{equation*} \n",
       "      "
      ],
      "text/plain": [
       "<IPython.core.display.Latex object>"
      ]
     },
     "execution_count": 257,
     "metadata": {},
     "output_type": "execute_result"
    }
   ],
   "source": [
    "Latex(\"\"\" \\\\begin{equation*} \\\\huge\n",
    "      {dy \\over dx} = -2 x^3 + 12 x^2 - 20 x + 8.5\n",
    "      \\\\end{equation*} \n",
    "      \"\"\")"
   ]
  },
  {
   "cell_type": "markdown",
   "metadata": {},
   "source": [
    "from x 5 0 to x 5 4 with a step size of 0.5. The initial condition at x 5 0 is y 5 1.\n",
    "Recall that the exact solution is given by Eq. (PT7.16):"
   ]
  },
  {
   "cell_type": "code",
   "execution_count": 258,
   "metadata": {},
   "outputs": [
    {
     "data": {
      "text/latex": [
       " \\begin{equation*} \\huge\n",
       "      y = -0.5 x^4 + 4 x^3 - 10 x^2 + 8.5 x + 1\n",
       "      \\end{equation*} \n",
       "      "
      ],
      "text/plain": [
       "<IPython.core.display.Latex object>"
      ]
     },
     "execution_count": 258,
     "metadata": {},
     "output_type": "execute_result"
    }
   ],
   "source": [
    "Latex(\"\"\" \\\\begin{equation*} \\\\huge\n",
    "      y = -0.5 x^4 + 4 x^3 - 10 x^2 + 8.5 x + 1\n",
    "      \\\\end{equation*} \n",
    "      \"\"\")"
   ]
  },
  {
   "cell_type": "markdown",
   "metadata": {},
   "source": [
    "### Solution\n",
    "\n",
    "Equation can be used to implement Euler's method:"
   ]
  },
  {
   "cell_type": "code",
   "execution_count": 259,
   "metadata": {},
   "outputs": [
    {
     "data": {
      "text/latex": [
       " \\begin{equation*} \\huge\n",
       "      {dy \\over dx} = f(x,y) = -2 x^3 + 12 x^2 - 20 x + 8.5\n",
       "      \\end{equation*} \n",
       "      "
      ],
      "text/plain": [
       "<IPython.core.display.Latex object>"
      ]
     },
     "execution_count": 259,
     "metadata": {},
     "output_type": "execute_result"
    }
   ],
   "source": [
    "Latex(\"\"\" \\\\begin{equation*} \\\\huge\n",
    "      {dy \\over dx} = f(x,y) = -2 x^3 + 12 x^2 - 20 x + 8.5\n",
    "      \\\\end{equation*} \n",
    "      \"\"\")"
   ]
  },
  {
   "cell_type": "code",
   "execution_count": 260,
   "metadata": {},
   "outputs": [],
   "source": [
    "def func(x):\n",
    "    return -2 * x**3 + 12 * x**2 - 20 * x + 8.5"
   ]
  },
  {
   "cell_type": "code",
   "execution_count": 261,
   "metadata": {},
   "outputs": [],
   "source": [
    "def F(x):\n",
    "    return -0.5 * x**4 + 4 * x**3 - 10 * x**2 + 8.5 * x + 1"
   ]
  },
  {
   "cell_type": "code",
   "execution_count": 262,
   "metadata": {},
   "outputs": [
    {
     "name": "stdout",
     "output_type": "stream",
     "text": [
      "x = 0.0 y_true = 1.00000 y_Euler = 1.00000\n",
      "x1 = 0.5 y_true = 3.21875 y_Euler = 5.25000 et =      -63.1 \n",
      "x1 = 1.0 y_true = 3.00000 y_Euler = 5.87500 et =      -95.8 \n",
      "x1 = 1.5 y_true = 2.21875 y_Euler = 5.12500 et =     -131.0 \n",
      "x1 = 2.0 y_true = 2.00000 y_Euler = 4.50000 et =     -125.0 \n",
      "x1 = 2.5 y_true = 2.71875 y_Euler = 4.75000 et =      -74.7 \n",
      "x1 = 3.0 y_true = 4.00000 y_Euler = 5.87500 et =      -46.9 \n",
      "x1 = 3.5 y_true = 4.71875 y_Euler = 7.12500 et =      -51.0 \n",
      "x1 = 4.0 y_true = 3.00000 y_Euler = 7.00000 et =     -133.3 \n"
     ]
    }
   ],
   "source": [
    "yl = []\n",
    "\n",
    "step = 0.5  # step size\n",
    "x1 = 0.0  # initial x\n",
    "y1 = F(x1)  # initial y\n",
    "yl.append(y1)\n",
    "\n",
    "print(f'x = {x1} y_true = {F(x1):0.5f} y_Euler = {y1:0.5f}')\n",
    "\n",
    "for i in range(8):\n",
    "    x = x1\n",
    "    y = y1\n",
    "    grad = func(x)\n",
    "    y1 = y + grad * step \n",
    "    x1 = x + step\n",
    "    et = ((F(x1) - y1)/F(x1))*100\n",
    "    ea = ((y1 - yl[-1])/y1)*100\n",
    "    print(f'x1 = {x1} y_true = {F(x1):0.5f} y_Euler = {y1:0.5f} et = {et:10.1f} ')\n",
    "    yl.append(y1)\n",
    "\n"
   ]
  },
  {
   "cell_type": "markdown",
   "metadata": {},
   "source": [
    "\n",
    "## Example 25.2 Error Estimates of Euler's Method\n",
    "\n",
    "### Program Statement\n",
    "\n",
    "* Use Eq. (25.7) to estimate the error of the first step of Example 25.1. Also use it to determine the error due to each higher-order term of the Taylor series expansion."
   ]
  },
  {
   "cell_type": "code",
   "execution_count": 263,
   "metadata": {},
   "outputs": [
    {
     "data": {
      "text/latex": [
       " \\begin{equation*} \\huge\n",
       "      E_t = {f'(x_i,y_i)\\over 2!}h^2+ \\cdots + O(h^{n+1})\n",
       "      \\end{equation*} \n",
       "      "
      ],
      "text/plain": [
       "<IPython.core.display.Latex object>"
      ]
     },
     "execution_count": 263,
     "metadata": {},
     "output_type": "execute_result"
    }
   ],
   "source": [
    "Latex(\"\"\" \\\\begin{equation*} \\\\huge\n",
    "      E_t = {f'(x_i,y_i)\\over 2!}h^2+ \\cdots + O(h^{n+1})\n",
    "      \\\\end{equation*} \n",
    "      \"\"\")"
   ]
  },
  {
   "cell_type": "markdown",
   "metadata": {},
   "source": [
    "### Solution\n",
    "\n",
    "* Because we are dealing with a polynomial, we can use the Taylor series to obtain exact estimates of the errors in Euler’s method. Equation (25.7) can be written as\n"
   ]
  },
  {
   "cell_type": "code",
   "execution_count": 264,
   "metadata": {},
   "outputs": [
    {
     "data": {
      "text/latex": [
       " \\begin{equation*} \\huge\n",
       "      E_t = {f'(x_i,y_i)\\over 2!}h^2+{f''(x_i,y_i)\\over 3!}h^3+{f'''(x_i,y_i)\\over 4!}h^4\n",
       "      \\end{equation*} \n",
       "      "
      ],
      "text/plain": [
       "<IPython.core.display.Latex object>"
      ]
     },
     "execution_count": 264,
     "metadata": {},
     "output_type": "execute_result"
    }
   ],
   "source": [
    "Latex(\"\"\" \\\\begin{equation*} \\\\huge\n",
    "      E_t = {f'(x_i,y_i)\\over 2!}h^2+{f''(x_i,y_i)\\over 3!}h^3+{f'''(x_i,y_i)\\over 4!}h^4\n",
    "      \\\\end{equation*} \n",
    "      \"\"\")"
   ]
  },
  {
   "cell_type": "code",
   "execution_count": 265,
   "metadata": {},
   "outputs": [],
   "source": [
    "def dfunc(x,degree=1):  # Derivative of f(x) at x\n",
    "    if degree == 0:\n",
    "        return -2 * x**3 + 12 * x**2 - 20 * x + 8.5\n",
    "    elif degree == 1:\n",
    "        return -6 * x**2 + 24 * x - 20\n",
    "    elif degree == 2:\n",
    "        return -12 * x + 24\n",
    "    elif degree == 3:\n",
    "        return -12"
   ]
  },
  {
   "cell_type": "code",
   "execution_count": 266,
   "metadata": {},
   "outputs": [],
   "source": [
    "def fact(n):\n",
    "    if n == 0:\n",
    "        return 1\n",
    "    else:\n",
    "        return n * fact(n-1)"
   ]
  },
  {
   "cell_type": "code",
   "execution_count": 267,
   "metadata": {},
   "outputs": [
    {
     "name": "stdout",
     "output_type": "stream",
     "text": [
      "E_t = -0.84375 = -9.5 + 18.0 + -12\n"
     ]
    }
   ],
   "source": [
    "x = 0.5\n",
    "step = 0.5\n",
    "E_t = sum([dfunc(x,i+1)/fact(i+2)*step**(i+2) for i in range(3)]  )\n",
    "print(f'E_t = {E_t} = {dfunc(x,1)} + {dfunc(x,2)} + {dfunc(x,3)}')"
   ]
  },
  {
   "cell_type": "code",
   "execution_count": null,
   "metadata": {},
   "outputs": [],
   "source": []
  },
  {
   "cell_type": "code",
   "execution_count": 268,
   "metadata": {},
   "outputs": [
    {
     "name": "stdout",
     "output_type": "stream",
     "text": [
      "15.766930455775165\n",
      "15.186062841831374\n"
     ]
    }
   ],
   "source": [
    "y0 = 13.44346\n",
    "y1 = 6.360865+(4*math.exp(0.8)-0.5*6.360865+4*math.exp(0.8*2)-0.5*y0)/(2)\n",
    "print(y1)\n",
    "y0 = y1\n",
    "y2 = 6.360865+(4*math.exp(0.8)-0.5*6.360865+4*math.exp(0.8*2)-0.5*y0)/(2)\n",
    "print(y2)"
   ]
  },
  {
   "cell_type": "code",
   "execution_count": 269,
   "metadata": {},
   "outputs": [
    {
     "name": "stdout",
     "output_type": "stream",
     "text": [
      "3.825004676944569\n"
     ]
    }
   ],
   "source": [
    "e = abs(y2-y1)/y2\n",
    "print(e*100)"
   ]
  },
  {
   "cell_type": "code",
   "execution_count": null,
   "metadata": {},
   "outputs": [],
   "source": []
  },
  {
   "cell_type": "markdown",
   "metadata": {},
   "source": [
    "\n",
    "## Example 27.1 Shooting Method\n",
    "\n",
    "### Program Statement\n",
    "\n",
    "* Use the shooting method to solve Eq. (27.1) for a 10m rod with\n",
    "h' = 0.01 m^-2, Ta = 20, and the boundary conditions T(0) = 40, T(10) = 200"
   ]
  },
  {
   "cell_type": "code",
   "execution_count": 278,
   "metadata": {},
   "outputs": [
    {
     "data": {
      "text/latex": [
       " \\begin{equation*} \\huge\n",
       "      {d^2 T \\over dx^2} = h'(T-T_a)\n",
       "      \\end{equation*} \n",
       "      "
      ],
      "text/plain": [
       "<IPython.core.display.Latex object>"
      ]
     },
     "execution_count": 278,
     "metadata": {},
     "output_type": "execute_result"
    }
   ],
   "source": [
    "Latex(\"\"\" \\\\begin{equation*} \\\\huge\n",
    "      {d^2 T \\over dx^2} = h'(T-T_a)\n",
    "      \\\\end{equation*} \n",
    "      \"\"\")\n",
    "\n"
   ]
  },
  {
   "cell_type": "code",
   "execution_count": 271,
   "metadata": {},
   "outputs": [
    {
     "data": {
      "text/latex": [
       " \\begin{equation*} \\huge\n",
       "        {d T \\over dx} = z\n",
       "        \\end{equation*} \n",
       "        "
      ],
      "text/plain": [
       "<IPython.core.display.Latex object>"
      ]
     },
     "execution_count": 271,
     "metadata": {},
     "output_type": "execute_result"
    }
   ],
   "source": [
    "Latex(\"\"\" \\\\begin{equation*} \\\\huge\n",
    "        {d T \\over dx} = z\n",
    "        \\\\end{equation*} \n",
    "        \"\"\")"
   ]
  },
  {
   "cell_type": "code",
   "execution_count": 277,
   "metadata": {},
   "outputs": [
    {
     "data": {
      "text/latex": [
       " \\begin{equation*} \\huge\n",
       "        {d z \\over dx} = h'(T-T_a)\n",
       "        \\end{equation*} \n",
       "        "
      ],
      "text/plain": [
       "<IPython.core.display.Latex object>"
      ]
     },
     "execution_count": 277,
     "metadata": {},
     "output_type": "execute_result"
    }
   ],
   "source": [
    "Latex(\"\"\" \\\\begin{equation*} \\\\huge\n",
    "        {d z \\over dx} = h'(T-T_a)\n",
    "        \\\\end{equation*} \n",
    "        \"\"\")"
   ]
  },
  {
   "cell_type": "code",
   "execution_count": 273,
   "metadata": {},
   "outputs": [],
   "source": [
    "def Ti1(Ti,a1,k1,a2,k2,h): \n",
    "    return Ti + (a1*k1 + a2*k2) * h\n",
    "\n",
    "def zi1(zi,a1,k1,a2,k2,h): \n",
    "    return zi + h * (a1*k1 + a2*k2)"
   ]
  },
  {
   "cell_type": "code",
   "execution_count": 274,
   "metadata": {},
   "outputs": [],
   "source": [
    "n = 30\n",
    "L = 10\n",
    "\n",
    "x = [i/n*L for i in range(n+1)]\n",
    "z0 = 9.193\n",
    "z = [z0 for i in range(n+1)]\n",
    "\n",
    "h_p = 0.01\n",
    "T_a = 20\n",
    "T = [40 for i in range(n+1)]\n",
    "\n",
    "h = 10.0/n\n",
    "a1 = 3.0/4.0\n",
    "a2 = 3.0/4.0"
   ]
  },
  {
   "cell_type": "code",
   "execution_count": 275,
   "metadata": {},
   "outputs": [
    {
     "name": "stdout",
     "output_type": "stream",
     "text": [
      "x = 0.00, z = 9.19, T = 40.00\n",
      "x = 0.33, z = 9.29, T = 43.64\n",
      "x = 0.67, z = 9.41, T = 47.32\n",
      "x = 1.00, z = 9.55, T = 51.04\n",
      "x = 1.33, z = 9.70, T = 54.82\n",
      "x = 1.67, z = 9.88, T = 58.66\n",
      "x = 2.00, z = 10.07, T = 62.57\n",
      "x = 2.33, z = 10.28, T = 66.56\n",
      "x = 2.67, z = 10.52, T = 70.63\n",
      "x = 3.00, z = 10.77, T = 74.79\n",
      "x = 3.33, z = 11.05, T = 79.06\n",
      "x = 3.67, z = 11.34, T = 83.43\n",
      "x = 4.00, z = 11.66, T = 87.92\n",
      "x = 4.33, z = 12.00, T = 92.53\n",
      "x = 4.67, z = 12.36, T = 97.28\n",
      "x = 5.00, z = 12.75, T = 102.18\n",
      "x = 5.33, z = 13.16, T = 107.22\n",
      "x = 5.67, z = 13.60, T = 112.43\n",
      "x = 6.00, z = 14.06, T = 117.81\n",
      "x = 6.33, z = 14.55, T = 123.38\n",
      "x = 6.67, z = 15.07, T = 129.14\n",
      "x = 7.00, z = 15.61, T = 135.10\n",
      "x = 7.33, z = 16.19, T = 141.28\n",
      "x = 7.67, z = 16.80, T = 147.69\n",
      "x = 8.00, z = 17.44, T = 154.34\n",
      "x = 8.33, z = 18.11, T = 161.24\n",
      "x = 8.67, z = 18.82, T = 168.41\n",
      "x = 9.00, z = 19.56, T = 175.86\n",
      "x = 9.33, z = 20.34, T = 183.60\n",
      "x = 9.67, z = 21.16, T = 191.65\n",
      "x = 10.00, z = 22.02, T = 200.03\n"
     ]
    }
   ],
   "source": [
    "for i in range(n):\n",
    "    kT1 = z[i]\n",
    "    kT2 = kT1*(1+a2)*h\n",
    "    T[i+1] = Ti1(T[i],a1,kT1,a2,kT2,h)\n",
    "\n",
    "    kz1 = h_p*(T[i]-T_a)\n",
    "    kz2 = h_p*((T[i]+a2*kz1*h)-T_a)\n",
    "    z[i+1] = zi1(z[i],a1,kz1,a2,kz2,h)\n",
    "\n",
    "for i in range(n+1):\n",
    "    print(f'x = {x[i]:0.2f}, z = {z[i]:0.2f}, T = {T[i]:0.2f}')\n"
   ]
  },
  {
   "cell_type": "code",
   "execution_count": 276,
   "metadata": {},
   "outputs": [
    {
     "data": {
      "text/plain": [
       "<matplotlib.legend.Legend at 0x11f0f0e20>"
      ]
     },
     "execution_count": 276,
     "metadata": {},
     "output_type": "execute_result"
    },
    {
     "data": {
      "image/png": "[encoded data removed]",
      "text/plain": [
       "<Figure size 640x480 with 1 Axes>"
      ]
     },
     "metadata": {},
     "output_type": "display_data"
    }
   ],
   "source": [
    "fig, ax = plt.subplots()\n",
    "ax.plot(x, T, label='Temperature')\n",
    "ax.plot(x, z, label='Heat flux')\n",
    "ax.scatter([0,10],[40,200],label='Boundary condition')\n",
    "ax.legend()"
   ]
  },
  {
   "cell_type": "code",
   "execution_count": null,
   "metadata": {},
   "outputs": [],
   "source": []
  }
 ],
 "metadata": {
  "kernelspec": {
   "display_name": "Python 3",
   "language": "python",
   "name": "python3"
  },
  "language_info": {
   "codemirror_mode": {
    "name": "ipython",
    "version": 3
   },
   "file_extension": ".py",
   "mimetype": "text/x-python",
   "name": "python",
   "nbconvert_exporter": "python",
   "pygments_lexer": "ipython3",
   "version": "3.10.12"
  }
 },
 "nbformat": 4,
 "nbformat_minor": 2
}
